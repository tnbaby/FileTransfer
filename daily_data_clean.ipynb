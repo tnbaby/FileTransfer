{
 "cells": [
  {
   "cell_type": "code",
   "execution_count": 16,
   "metadata": {
    "collapsed": true
   },
   "outputs": [],
   "source": [
    "%matplotlib inline"
   ]
  },
  {
   "cell_type": "code",
   "execution_count": 17,
   "metadata": {
    "collapsed": true
   },
   "outputs": [],
   "source": [
    "import matplotlib.pyplot as plt\n",
    "import os\n",
    "import time\n",
    "import datetime\n",
    "import pandas as pd\n",
    "import numpy as np"
   ]
  },
  {
   "cell_type": "markdown",
   "metadata": {},
   "source": [
    "# import daily data"
   ]
  },
  {
   "cell_type": "code",
   "execution_count": 18,
   "metadata": {},
   "outputs": [
    {
     "data": {
      "text/plain": [
       "['yearly_data',\n",
       " 'raw_data',\n",
       " 'monthly_data',\n",
       " '.DS_Store',\n",
       " 'daily_data',\n",
       " 'basic_info',\n",
       " 'fund_style']"
      ]
     },
     "execution_count": 18,
     "metadata": {},
     "output_type": "execute_result"
    }
   ],
   "source": [
    "os.listdir('./../data/')"
   ]
  },
  {
   "cell_type": "code",
   "execution_count": 19,
   "metadata": {
    "collapsed": true
   },
   "outputs": [],
   "source": [
    "daily_data_dir = './../data/daily_data/'\n",
    "basic_info_dir = './../data/basic_info/'\n",
    "fund_style_dir = './../data/fund_style/'"
   ]
  },
  {
   "cell_type": "code",
   "execution_count": 20,
   "metadata": {
    "collapsed": true
   },
   "outputs": [],
   "source": [
    "fund_manager = pd.read_csv(os.path.join(basic_info_dir, 'fund_manager.csv'), encoding='utf-8')"
   ]
  },
  {
   "cell_type": "code",
   "execution_count": 21,
   "metadata": {
    "collapsed": true
   },
   "outputs": [],
   "source": [
    "# fund_manager = pd.read_csv(os.path.join(basic_info_dir, 'fund_manager.csv'), encoding='utf-8')"
   ]
  },
  {
   "cell_type": "code",
   "execution_count": 22,
   "metadata": {
    "collapsed": true
   },
   "outputs": [],
   "source": [
    "target_funds_info = pd.read_csv(os.path.join(basic_info_dir, 'target_funds_info.csv'), encoding='utf-8')"
   ]
  },
  {
   "cell_type": "code",
   "execution_count": 23,
   "metadata": {},
   "outputs": [
    {
     "data": {
      "text/html": [
       "<div>\n",
       "<style>\n",
       "    .dataframe thead tr:only-child th {\n",
       "        text-align: right;\n",
       "    }\n",
       "\n",
       "    .dataframe thead th {\n",
       "        text-align: left;\n",
       "    }\n",
       "\n",
       "    .dataframe tbody tr th {\n",
       "        vertical-align: top;\n",
       "    }\n",
       "</style>\n",
       "<table border=\"1\" class=\"dataframe\">\n",
       "  <thead>\n",
       "    <tr style=\"text-align: right;\">\n",
       "      <th></th>\n",
       "      <th>证券代码</th>\n",
       "      <th>证券名称</th>\n",
       "      <th>交易时间</th>\n",
       "      <th>开盘价</th>\n",
       "      <th>最高价</th>\n",
       "      <th>最低价</th>\n",
       "      <th>收盘价</th>\n",
       "      <th>涨跌</th>\n",
       "      <th>涨跌幅%</th>\n",
       "      <th>成交量</th>\n",
       "      <th>成交额</th>\n",
       "    </tr>\n",
       "  </thead>\n",
       "  <tbody>\n",
       "    <tr>\n",
       "      <th>0</th>\n",
       "      <td>000300</td>\n",
       "      <td>沪深300</td>\n",
       "      <td>2005-01-04</td>\n",
       "      <td>994.77</td>\n",
       "      <td>994.77</td>\n",
       "      <td>980.66</td>\n",
       "      <td>982.794</td>\n",
       "      <td>——</td>\n",
       "      <td>——</td>\n",
       "      <td>7412868.0</td>\n",
       "      <td>4.431977e+09</td>\n",
       "    </tr>\n",
       "    <tr>\n",
       "      <th>1</th>\n",
       "      <td>000300</td>\n",
       "      <td>沪深300</td>\n",
       "      <td>2005-01-05</td>\n",
       "      <td>981.58</td>\n",
       "      <td>997.32</td>\n",
       "      <td>979.88</td>\n",
       "      <td>992.564</td>\n",
       "      <td>9.77002</td>\n",
       "      <td>0.994107</td>\n",
       "      <td>7119108.0</td>\n",
       "      <td>4.529208e+09</td>\n",
       "    </tr>\n",
       "    <tr>\n",
       "      <th>2</th>\n",
       "      <td>000300</td>\n",
       "      <td>沪深300</td>\n",
       "      <td>2005-01-06</td>\n",
       "      <td>993.33</td>\n",
       "      <td>993.79</td>\n",
       "      <td>980.33</td>\n",
       "      <td>983.174</td>\n",
       "      <td>-9.39002</td>\n",
       "      <td>-0.946036</td>\n",
       "      <td>6288029.0</td>\n",
       "      <td>3.921015e+09</td>\n",
       "    </tr>\n",
       "    <tr>\n",
       "      <th>3</th>\n",
       "      <td>000300</td>\n",
       "      <td>沪深300</td>\n",
       "      <td>2005-01-07</td>\n",
       "      <td>983.05</td>\n",
       "      <td>995.71</td>\n",
       "      <td>979.81</td>\n",
       "      <td>983.958</td>\n",
       "      <td>0.783997</td>\n",
       "      <td>0.0797414</td>\n",
       "      <td>7298694.0</td>\n",
       "      <td>4.737469e+09</td>\n",
       "    </tr>\n",
       "    <tr>\n",
       "      <th>4</th>\n",
       "      <td>000300</td>\n",
       "      <td>沪深300</td>\n",
       "      <td>2005-01-10</td>\n",
       "      <td>983.76</td>\n",
       "      <td>993.96</td>\n",
       "      <td>979.79</td>\n",
       "      <td>993.879</td>\n",
       "      <td>9.92102</td>\n",
       "      <td>1.00828</td>\n",
       "      <td>5791697.0</td>\n",
       "      <td>3.762933e+09</td>\n",
       "    </tr>\n",
       "  </tbody>\n",
       "</table>\n",
       "</div>"
      ],
      "text/plain": [
       "     证券代码   证券名称       交易时间     开盘价     最高价     最低价      收盘价        涨跌  \\\n",
       "0  000300  沪深300 2005-01-04  994.77  994.77  980.66  982.794        ——   \n",
       "1  000300  沪深300 2005-01-05  981.58  997.32  979.88  992.564   9.77002   \n",
       "2  000300  沪深300 2005-01-06  993.33  993.79  980.33  983.174  -9.39002   \n",
       "3  000300  沪深300 2005-01-07  983.05  995.71  979.81  983.958  0.783997   \n",
       "4  000300  沪深300 2005-01-10  983.76  993.96  979.79  993.879   9.92102   \n",
       "\n",
       "        涨跌幅%        成交量           成交额  \n",
       "0         ——  7412868.0  4.431977e+09  \n",
       "1   0.994107  7119108.0  4.529208e+09  \n",
       "2  -0.946036  6288029.0  3.921015e+09  \n",
       "3  0.0797414  7298694.0  4.737469e+09  \n",
       "4    1.00828  5791697.0  3.762933e+09  "
      ]
     },
     "execution_count": 23,
     "metadata": {},
     "output_type": "execute_result"
    }
   ],
   "source": [
    "# fund_style = pd.read_excel(os.path.join(fund_style_dir+'daily', 'zz500g_daily.xls'), encoding='utf-8')\n",
    "os.listdir(fund_style_dir+'daily/')\n",
    "hs300 = pd.read_excel(os.path.join(fund_style_dir+'daily/', 'hs300_daily.xls'), encoding='utf-8')\n",
    "hs300.head()"
   ]
  },
  {
   "cell_type": "code",
   "execution_count": 24,
   "metadata": {},
   "outputs": [
    {
     "data": {
      "text/plain": [
       "Index([u'date', u'hs300g_monthly_close', u'hs300g_monthly_return',\n",
       "       u'bond_long_monthly_close', u'bond_long_monthly_return',\n",
       "       u'bond_medium_monthly_close', u'bond_medium_monthly_return',\n",
       "       u'bond_short_monthly_close', u'bond_short_monthly_return',\n",
       "       u'hs300v_monthly_close', u'hs300v_monthly_return',\n",
       "       u'zz1000_monthly_close', u'zz1000_monthly_return',\n",
       "       u'zz500g_monthly_close', u'zz500g_monthly_return',\n",
       "       u'zz500v_monthly_close', u'zz500v_monthly_return'],\n",
       "      dtype='object')"
      ]
     },
     "execution_count": 24,
     "metadata": {},
     "output_type": "execute_result"
    }
   ],
   "source": [
    "os.listdir(fund_style_dir+\"monthly/\")\n",
    "monthly_data = pd.read_csv(os.path.join(fund_style_dir+'monthly/','fund_style_monthly.csv'), encoding='utf-8')\n",
    "monthly_data.columns"
   ]
  },
  {
   "cell_type": "code",
   "execution_count": 25,
   "metadata": {
    "collapsed": true
   },
   "outputs": [],
   "source": [
    "# data = monthly_data[['date','bond_medium_monthly_close', 'bond_short_monthly_close', 'bond_long_monthly_close']]\n",
    "\n",
    "# plt.plot(pd.to_datetime(data['date']), data[['bond_medium_monthly_close', 'bond_short_monthly_close', 'bond_long_monthly_close']])"
   ]
  },
  {
   "cell_type": "code",
   "execution_count": 26,
   "metadata": {
    "collapsed": true
   },
   "outputs": [],
   "source": [
    "hs300.columns = ['code', 'name', 'date', 'hs300_daily_open', 'max', 'min',\n",
    "                 'hs300_daily_close', 'hs300_daily_rate', 'hs300_daily_return', 'turnover','volume']\n",
    "# hs300.head()"
   ]
  },
  {
   "cell_type": "code",
   "execution_count": 27,
   "metadata": {},
   "outputs": [
    {
     "name": "stderr",
     "output_type": "stream",
     "text": [
      "/home/tnbaby/anaconda2/lib/python2.7/site-packages/ipykernel_launcher.py:2: FutureWarning: convert_objects is deprecated.  Use the data-type specific converters pd.to_datetime, pd.to_timedelta and pd.to_numeric.\n",
      "  \n"
     ]
    }
   ],
   "source": [
    "hs300 = hs300[['date','hs300_daily_close', 'hs300_daily_return']]\n",
    "hs300['hs300_daily_return'] =  (hs300['hs300_daily_return']).convert_objects(convert_numeric=True)/100.0"
   ]
  },
  {
   "cell_type": "code",
   "execution_count": 28,
   "metadata": {},
   "outputs": [
    {
     "data": {
      "text/plain": [
       "<matplotlib.axes._subplots.AxesSubplot at 0x7f538b690b90>"
      ]
     },
     "execution_count": 28,
     "metadata": {},
     "output_type": "execute_result"
    },
    {
     "data": {
      "image/png": "[encoded data removed]",
      "text/plain": [
       "<matplotlib.figure.Figure at 0x7f538b717f50>"
      ]
     },
     "metadata": {},
     "output_type": "display_data"
    }
   ],
   "source": [
    "hs300['hs300_daily_return'].plot()"
   ]
  },
  {
   "cell_type": "code",
   "execution_count": 29,
   "metadata": {},
   "outputs": [
    {
     "data": {
      "text/plain": [
       "['daily_data_ready.zip',\n",
       " 'daily_data_clean_20171110.zip',\n",
       " 'daily_before_adjust_data_funds.csv',\n",
       " 'funds_daily.csv',\n",
       " 'funds_daily.zip',\n",
       " 'daily_after_adjust_data_funds.csv',\n",
       " '.ipynb_checkpoints',\n",
       " 'daily_data_ready.csv',\n",
       " 'daily_fund_style_index_data.csv',\n",
       " 'daily_no_adjust_data_funds.csv']"
      ]
     },
     "execution_count": 29,
     "metadata": {},
     "output_type": "execute_result"
    }
   ],
   "source": [
    "os.listdir(daily_data_dir)"
   ]
  },
  {
   "cell_type": "markdown",
   "metadata": {},
   "source": [
    "# import daily funds data"
   ]
  },
  {
   "cell_type": "code",
   "execution_count": 30,
   "metadata": {
    "scrolled": true
   },
   "outputs": [],
   "source": [
    "daily_funds = pd.read_csv(os.path.join(daily_data_dir, 'daily_data_ready.csv'), encoding='utf-8')"
   ]
  },
  {
   "cell_type": "code",
   "execution_count": 31,
   "metadata": {
    "collapsed": true
   },
   "outputs": [],
   "source": [
    "# daily_funds[daily_funds['date'] > '20050101']"
   ]
  },
  {
   "cell_type": "code",
   "execution_count": 32,
   "metadata": {
    "collapsed": true
   },
   "outputs": [],
   "source": [
    "# daily_fund_style = pd.read_csv(os.path.join(fund_style_dir, 'daily/fund_style_daily.csv'), encoding='utf-8')\n",
    "# # daily_fund_style['hs300v_daily_close'].plot()\n",
    "# # daily_fund_style = pd.merge(daily_fund_style, hs300, how='left', on=['date'])\n",
    "# # daily_fund_style\n",
    "# daily_fund_style.head()"
   ]
  },
  {
   "cell_type": "code",
   "execution_count": 33,
   "metadata": {
    "collapsed": true
   },
   "outputs": [],
   "source": [
    "# daily_fund_style[['bond_long_daily_close', 'bond_medium_daily_close', 'bond_short_daily_close']].plot()\n",
    "# data = daily_fund_style[['bond_long_daily_close', 'bond_medium_daily_close', 'bond_short_daily_close']].values\n",
    "# plt.plot(pd.to_datetime(daily_fund_style['date']), daily_fund_style[['bond_long_daily_close', 'bond_medium_daily_close', 'bond_short_daily_close']])"
   ]
  },
  {
   "cell_type": "code",
   "execution_count": 34,
   "metadata": {
    "collapsed": true
   },
   "outputs": [],
   "source": [
    "tmp = pd.to_datetime(daily_funds['date'])\n",
    "daily_funds.loc[:,'year'] = tmp.dt.year\n",
    "daily_funds.loc[:,'month'] = tmp.dt.month\n",
    "daily_funds.loc[:,'date'] = tmp.dt.date\n",
    "daily_funds.loc[:, 'day'] = tmp.dt.day\n",
    "daily_funds = daily_funds[daily_funds['year'] > 2005]\n",
    "# daily_funds.columns"
   ]
  },
  {
   "cell_type": "code",
   "execution_count": 35,
   "metadata": {
    "collapsed": true
   },
   "outputs": [],
   "source": [
    "# tmp = pd.to_datetime(hs300['date'])\n",
    "# hs300.loc[:,'year'] = tmp.dt.year\n",
    "# hs300.loc[:,'month'] = tmp.dt.month\n",
    "# hs300.loc[:,'date'] = tmp.dt.date\n",
    "# hs300.loc[:, 'day'] = tmp.dt.day"
   ]
  },
  {
   "cell_type": "code",
   "execution_count": 36,
   "metadata": {
    "collapsed": true
   },
   "outputs": [],
   "source": [
    "# tmp = pd.to_datetime(daily_fund_style['date'])\n",
    "# daily_fund_style.loc[:,'year'] = tmp.dt.year\n",
    "# daily_fund_style.loc[:,'month'] = tmp.dt.month\n",
    "# daily_fund_style.loc[:,'date'] = tmp.dt.date\n",
    "# daily_fund_style.loc[:, 'day'] = tmp.dt.day\n",
    "# daily_fund_style = pd.merge(daily_fund_style, hs300, how='left', on=['date','year', 'month','day'])\n",
    "# daily_data\n",
    "# daily_fund_style.head()"
   ]
  },
  {
   "cell_type": "code",
   "execution_count": 37,
   "metadata": {
    "collapsed": true
   },
   "outputs": [],
   "source": [
    "# daily_data = pd.merge(daily_funds, daily_fund_style, how='left', on=['date','year', 'month','day'])\n",
    "# daily_data\n",
    "# daily_funds.head()"
   ]
  },
  {
   "cell_type": "code",
   "execution_count": 39,
   "metadata": {},
   "outputs": [
    {
     "name": "stdout",
     "output_type": "stream",
     "text": [
      "code : (2006, 1, 4)\n",
      "date : (2006, 1, 4)\n",
      "net_unit_value : (2006, 1, 4)\n",
      "net_unit_return : (2006, 1, 4)\n",
      "net_cumulative_value : (2006, 1, 4)\n",
      "net_cumulative_return : (2006, 1, 4)\n",
      "net_restore_value : (2006, 1, 4)\n",
      "net_restore_return : (2006, 1, 4)\n",
      "hs300g_daily_return : (2006, 1, 4)\n",
      "bond_long_daily_return : (2006, 1, 4)\n",
      "bond_medium_daily_return : (2006, 1, 4)\n",
      "bond_short_daily_return : (2006, 1, 4)\n",
      "hs300v_daily_return : (2006, 1, 4)\n",
      "zz1000_daily_return : (2006, 1, 4)\n",
      "zz500g_daily_return : (2006, 1, 4)\n",
      "zz500v_daily_return : (2006, 1, 4)\n",
      "hs300_daily_return : (2006, 1, 4)\n"
     ]
    }
   ],
   "source": [
    "for columns_i in list(daily_funds.columns):\n",
    "    if columns_i in ['year','month','day']:\n",
    "        continue\n",
    "    print '{} : {}'.format(columns_i, daily_funds[~daily_funds[columns_i].isnull()].groupby(['year','month','day']).first().index.min())"
   ]
  },
  {
   "cell_type": "code",
   "execution_count": 40,
   "metadata": {},
   "outputs": [
    {
     "ename": "NameError",
     "evalue": "name 'daily_data' is not defined",
     "output_type": "error",
     "traceback": [
      "\u001b[0;31m---------------------------------------------------------------------------\u001b[0m",
      "\u001b[0;31mNameError\u001b[0m                                 Traceback (most recent call last)",
      "\u001b[0;32m<ipython-input-40-b8678b57f408>\u001b[0m in \u001b[0;36m<module>\u001b[0;34m()\u001b[0m\n\u001b[0;32m----> 1\u001b[0;31m \u001b[0mdaily_data\u001b[0m \u001b[0;34m=\u001b[0m \u001b[0mdaily_data\u001b[0m\u001b[0;34m[\u001b[0m\u001b[0mdaily_data\u001b[0m\u001b[0;34m[\u001b[0m\u001b[0;34m'year'\u001b[0m\u001b[0;34m]\u001b[0m \u001b[0;34m>\u001b[0m \u001b[0;36m2005\u001b[0m\u001b[0;34m]\u001b[0m\u001b[0;34m\u001b[0m\u001b[0m\n\u001b[0m\u001b[1;32m      2\u001b[0m \u001b[0mdaily_data\u001b[0m\u001b[0;34m.\u001b[0m\u001b[0mreset_index\u001b[0m\u001b[0;34m(\u001b[0m\u001b[0mdrop\u001b[0m\u001b[0;34m=\u001b[0m\u001b[0mTrue\u001b[0m\u001b[0;34m,\u001b[0m \u001b[0minplace\u001b[0m\u001b[0;34m=\u001b[0m\u001b[0mTrue\u001b[0m\u001b[0;34m)\u001b[0m\u001b[0;34m\u001b[0m\u001b[0m\n",
      "\u001b[0;31mNameError\u001b[0m: name 'daily_data' is not defined"
     ]
    }
   ],
   "source": [
    "daily_data = daily_data[daily_data['year'] > 2005]\n",
    "daily_data.reset_index(drop=True, inplace=True)"
   ]
  },
  {
   "cell_type": "code",
   "execution_count": null,
   "metadata": {
    "collapsed": true
   },
   "outputs": [],
   "source": [
    "daily_data.columns"
   ]
  },
  {
   "cell_type": "code",
   "execution_count": null,
   "metadata": {
    "collapsed": true
   },
   "outputs": [],
   "source": [
    "del daily_data['year']\n",
    "del daily_data['month']\n",
    "del daily_data['day']"
   ]
  },
  {
   "cell_type": "code",
   "execution_count": null,
   "metadata": {
    "collapsed": true
   },
   "outputs": [],
   "source": [
    "daily_data.dropna(how=\"any\").head()"
   ]
  },
  {
   "cell_type": "code",
   "execution_count": null,
   "metadata": {
    "collapsed": true
   },
   "outputs": [],
   "source": [
    "daily_data.to_csv('./../data/daily_data/daily_data_clean_'+ datetime.date.today().strftime('%Y%m%d') + '.csv'\n",
    "                  , encoding='utf-8', index=False, header=True)"
   ]
  },
  {
   "cell_type": "code",
   "execution_count": null,
   "metadata": {
    "collapsed": true
   },
   "outputs": [],
   "source": [
    "plt.plot(daily_data['hs300_daily_return'])"
   ]
  },
  {
   "cell_type": "code",
   "execution_count": null,
   "metadata": {
    "collapsed": true
   },
   "outputs": [],
   "source": [
    "# daily_funds = pd.read_csv(os.path.join(daily_data_dir, 'funds_daily.csv'), encoding='utf-8')\n",
    "\n",
    "# daily_funds.head()\n",
    "\n",
    "# daily_funds.sort_values([\"日期\".decode('utf-8')], ascending=[True], inplace=True)\n",
    "\n",
    "# daily_funds.columns\n",
    "\n",
    "# daily_funds_return = daily_funds[[\"日期\".decode('utf-8'), \"代码\".decode('utf-8'), \"涨跌幅(%)\".decode('utf-8')]]\n",
    "\n",
    "# daily_funds_return.columns = ['date', 'code', 'return']\n",
    "\n",
    "# daily_funds_return.head()\n",
    "\n",
    "# tmp = pd.to_datetime(daily_funds_return['date'])\n",
    "# daily_funds_return.loc[:,'year'] = tmp.dt.year\n",
    "# daily_funds_return.loc[:,'month'] = tmp.dt.month\n",
    "# daily_funds_return.loc[:,'date'] = tmp.dt.date\n",
    "# daily_funds_return.loc[:, 'day'] = tmp.dt.day\n",
    "\n",
    "# daily_funds_return = daily_funds_return[['date', 'year', 'month', 'day', 'code', 'return']]\n",
    "\n",
    "# daily_funds_return.head()\n",
    "\n",
    "# daily_funds_return.columns\n",
    "\n",
    "# daily_funds_return = daily_funds_return[~daily_funds_return['return'].isnull()]\n",
    "# daily_funds_return.reset_index(drop=True, inplace=True)\n",
    "# daily_funds_return.head()\n",
    "\n",
    "# # import daily fundstyle data from daily data\n",
    "\n",
    "# daily_fund_style_data = pd.read_csv(os.path.join(daily_data_dir, 'daily_fund_style_index_data.csv'), encoding='utf-8')\n",
    "\n",
    "# daily_fund_style_data.shape\n",
    "\n",
    "# daily_fund_style_data.head()\n",
    "\n",
    "# daily_fund_style_data.dtypes\n",
    "\n",
    "# daily_fund_style_data.columns\n",
    "\n",
    "# daily_fund_style_data = daily_fund_style_data[['日期'.decode('utf-8'), '中证100指数'.decode('utf-8'),\n",
    "#                                                 '中债综合指数'.decode('utf-8'),'中债总指数'.decode('utf-8'),\n",
    "#                                                '中证500指数'.decode('utf-8'),'中债中短期债券指数'.decode('utf-8'),\n",
    "#                                                '中债长期债券指数'.decode('utf-8'), '中债短融AA指数'.decode('utf-8'),\n",
    "#                                               '沪深300'.decode('utf-8')]]\n",
    "\n",
    "# daily_fund_style_data.shape\n",
    "\n",
    "# daily_fund_style_data.columns = ['date', 'zhongzheng_100', 'zhongzhai_composite', 'zhongzhai_total', \n",
    "#                                  'zhongzheng_500','zhongzhai_short_term','zhongzhai_long_term',\n",
    "#                                  'zhongzhai_short_AA', 'sh300']\n",
    "\n",
    "# daily_fund_style_data.head()\n",
    "\n",
    "# daily_fund_style_data['date'] = pd.to_datetime(daily_fund_style_data['date'])\n",
    "# daily_fund_style_data['year'] = daily_fund_style_data['date'].dt.year\n",
    "# daily_fund_style_data['month'] = daily_fund_style_data['date'].dt.month\n",
    "# daily_fund_style_data['day'] = daily_fund_style_data['date'].dt.day\n",
    "# daily_fund_style_data['date'] = daily_fund_style_data['date'].dt.date\n",
    "\n",
    "# daily_fund_style_data = daily_fund_style_data[['date', 'year', 'month', 'day','zhongzheng_100', 'zhongzhai_composite',\n",
    "#                                 'zhongzhai_total', 'zhongzheng_500', 'zhongzhai_short_term','zhongzhai_long_term',\n",
    "#                                 'zhongzhai_short_AA', 'sh300']]\n",
    "\n",
    "# daily_fund_style_data = daily_fund_style_data[~daily_fund_style_data['zhongzheng_500'].isnull()]\n",
    "\n",
    "# daily_fund_style_data.sort_values(['date'], ascending=[True], inplace=True)\n",
    "# daily_fund_style_data.reset_index(drop=True, inplace=True)\n",
    "\n",
    "# daily_fund_style_data.head()\n",
    "\n",
    "# daily_fund_style_data_month_end = daily_fund_style_data.sort_values('day',\n",
    "#                                         ascending=[False]).groupby(['year','month'], as_index=False).first()\n",
    "\n",
    "# daily_fund_style_data_month_end.head()\n",
    "\n",
    "# # merge daily_funds_data with daily_fund style index return data\n",
    "\n",
    "# daily_funds_return.columns\n",
    "\n",
    "# daily_fund_style_data.columns\n",
    "\n",
    "# #daily_funds_return = daily_funds_return[daily_funds_return['year'] >= 2006]\n",
    "\n",
    "# daily_fund_style_data.head()\n",
    "\n",
    "# ## calculate daily returns for these fund style index\n",
    "\n",
    "# daily_fund_style_data_columns = list(daily_fund_style_data.columns)\n",
    "\n",
    "# daily_fund_style_data_columns\n",
    "\n",
    "# daily_fund_style_return_data_columns = []\n",
    "# for column_i in daily_fund_style_data_columns[4:]:\n",
    "#     daily_fund_style_data[column_i + '_shift'] = daily_fund_style_data[column_i].shift(1)\n",
    "#     daily_fund_style_data[column_i + '_return'] = daily_fund_style_data[column_i] / daily_fund_style_data[column_i + '_shift'] - 1\n",
    "#     daily_fund_style_return_data_columns.append(column_i + '_return')\n",
    "# daily_fund_style_data.head()\n",
    "\n",
    "# daily_fund_style_return_data_columns.insert(0, 'day')\n",
    "# daily_fund_style_return_data_columns.insert(0, 'month')\n",
    "# daily_fund_style_return_data_columns.insert(0, 'year')\n",
    "# daily_fund_style_return_data_columns.insert(0, 'date')\n",
    "\n",
    "# daily_fund_style_return_data_columns\n",
    "\n",
    "# daily_fund_style_return_data = daily_fund_style_data[daily_fund_style_return_data_columns]\n",
    "\n",
    "# daily_fund_style_return_data.head()\n",
    "\n",
    "# daily_fund_style_return_data = daily_fund_style_return_data[~daily_fund_style_return_data['zhongzheng_100_return'].isnull()]\n",
    "\n",
    "# daily_fund_style_return_data['zhongzhai_short_AA_return'].plot()\n",
    "\n",
    "# daily_funds_return.sort_values(['year','month'], ascending=[True, True], inplace=True)\n",
    "\n",
    "# daily_funds_return['return'] = daily_funds_return['return'] / 100\n",
    "\n",
    "# ## find the nearest year-month-day of all funds\n",
    "\n",
    "# daily_data = pd.merge(daily_funds_return, daily_fund_style_return_data, how='left', on=['date','year', 'month','day'])\n",
    "\n",
    "# for columns_i in list(daily_data.columns):\n",
    "#     if columns_i in ['year','month','day']:\n",
    "#         continue\n",
    "#     print '{} : {}'.format(columns_i, daily_data[~daily_data[columns_i].isnull()].groupby(['year','month','day']).first().index.min())\n",
    "\n",
    "# daily_data = daily_data[daily_data['year'] >= 2007]    \n",
    "\n",
    "# #daily_data\n",
    "\n",
    "# # save the data into files\n",
    "\n",
    "# daily_data.sort_values(['code', 'year','month','day'], ascending=[True,True, True,True], inplace=True)\n",
    "# daily_data.reset_index(drop=True, inplace=True)\n",
    "# print daily_data.shape\n",
    "\n",
    "# daily_data.head()\n",
    "\n",
    "# daily_data= daily_data[['code','date','year','month','day','return','sh300_return','zhongzheng_100_return','zhongzhai_composite_return',\n",
    "#                        'zhongzhai_total_return','zhongzheng_500_return','zhongzhai_short_term_return','zhongzhai_long_term_return', 'zhongzhai_short_AA_return']]\n",
    "\n",
    "# daily_data.dropna(how='any').head()\n",
    "\n",
    "# daily_data.to_csv('./../data/daily_data/daily_data_clean_'+ datetime.date.today().strftime('%Y%m%d') + '.csv', encoding='utf-8', index=False, header=True)\n",
    "\n",
    "# daily_data['sh300_return'].plot()\n",
    "\n"
   ]
  },
  {
   "cell_type": "code",
   "execution_count": null,
   "metadata": {
    "collapsed": true
   },
   "outputs": [],
   "source": []
  }
 ],
 "metadata": {
  "kernelspec": {
   "display_name": "Python 2",
   "language": "python",
   "name": "python2"
  },
  "language_info": {
   "codemirror_mode": {
    "name": "ipython",
    "version": 2
   },
   "file_extension": ".py",
   "mimetype": "text/x-python",
   "name": "python",
   "nbconvert_exporter": "python",
   "pygments_lexer": "ipython2",
   "version": "2.7.13"
  }
 },
 "nbformat": 4,
 "nbformat_minor": 2
}
