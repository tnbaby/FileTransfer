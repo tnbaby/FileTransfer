{
 "cells": [
  {
   "cell_type": "code",
   "execution_count": 1,
   "metadata": {
    "collapsed": true
   },
   "outputs": [],
   "source": [
    "%matplotlib inline"
   ]
  },
  {
   "cell_type": "code",
   "execution_count": 2,
   "metadata": {
    "collapsed": true
   },
   "outputs": [],
   "source": [
    "import matplotlib.pyplot as plt\n",
    "import os\n",
    "import time\n",
    "import datetime\n",
    "import pandas as pd\n",
    "import numpy as np"
   ]
  },
  {
   "cell_type": "markdown",
   "metadata": {},
   "source": [
    "# import daily data"
   ]
  },
  {
   "cell_type": "code",
   "execution_count": 3,
   "metadata": {},
   "outputs": [
    {
     "data": {
      "text/plain": [
       "['daily_before_adjust_data_funds.csv',\n",
       " 'daily_after_adjust_data_funds.csv',\n",
       " '.ipynb_checkpoints',\n",
       " 'daily_fund_style_index_data.csv',\n",
       " 'daily_no_adjust_data_funds.csv']"
      ]
     },
     "execution_count": 3,
     "metadata": {},
     "output_type": "execute_result"
    }
   ],
   "source": [
    "os.listdir('./../data/daily_data/')"
   ]
  },
  {
   "cell_type": "code",
   "execution_count": 4,
   "metadata": {
    "collapsed": true
   },
   "outputs": [],
   "source": [
    "daily_data_dir = './../data/daily_data/'"
   ]
  },
  {
   "cell_type": "markdown",
   "metadata": {},
   "source": [
    "# import daily funds data"
   ]
  },
  {
   "cell_type": "code",
   "execution_count": 5,
   "metadata": {
    "collapsed": true
   },
   "outputs": [],
   "source": [
    "daily_funds = pd.read_csv(os.path.join(daily_data_dir, 'daily_no_adjust_data_funds.csv'), encoding='utf-8')"
   ]
  },
  {
   "cell_type": "code",
   "execution_count": 6,
   "metadata": {},
   "outputs": [
    {
     "data": {
      "text/plain": [
       "(322944, 17)"
      ]
     },
     "execution_count": 6,
     "metadata": {},
     "output_type": "execute_result"
    }
   ],
   "source": [
    "daily_funds.shape"
   ]
  },
  {
   "cell_type": "code",
   "execution_count": 7,
   "metadata": {
    "collapsed": true,
    "scrolled": true
   },
   "outputs": [],
   "source": [
    "daily_funds.sort_values([\"日期\".decode('utf-8')], ascending=[True], inplace=True)"
   ]
  },
  {
   "cell_type": "code",
   "execution_count": 8,
   "metadata": {},
   "outputs": [
    {
     "data": {
      "text/plain": [
       "Index([u'代码', u'简称', u'日期', u'前收盘价(元)', u'开盘价(元)', u'最高价(元)', u'最低价(元)',\n",
       "       u'收盘价(元)', u'成交量(份)', u'成交金额(元)', u'涨跌(元)', u'涨跌幅(%)', u'均价(元)',\n",
       "       u'换手率(%)', u'单位净值(元)', u'累计净值(元)', u'复权净值(元)'],\n",
       "      dtype='object')"
      ]
     },
     "execution_count": 8,
     "metadata": {},
     "output_type": "execute_result"
    }
   ],
   "source": [
    "daily_funds.columns"
   ]
  },
  {
   "cell_type": "code",
   "execution_count": 9,
   "metadata": {
    "collapsed": true
   },
   "outputs": [],
   "source": [
    "daily_funds_return = daily_funds[[\"日期\".decode('utf-8'), \"代码\".decode('utf-8'), \"涨跌幅(%)\".decode('utf-8')]]"
   ]
  },
  {
   "cell_type": "code",
   "execution_count": 10,
   "metadata": {
    "collapsed": true
   },
   "outputs": [],
   "source": [
    "daily_funds_return.columns = ['date', 'code', 'return']"
   ]
  },
  {
   "cell_type": "code",
   "execution_count": 11,
   "metadata": {},
   "outputs": [
    {
     "data": {
      "text/html": [
       "<div>\n",
       "<style>\n",
       "    .dataframe thead tr:only-child th {\n",
       "        text-align: right;\n",
       "    }\n",
       "\n",
       "    .dataframe thead th {\n",
       "        text-align: left;\n",
       "    }\n",
       "\n",
       "    .dataframe tbody tr th {\n",
       "        vertical-align: top;\n",
       "    }\n",
       "</style>\n",
       "<table border=\"1\" class=\"dataframe\">\n",
       "  <thead>\n",
       "    <tr style=\"text-align: right;\">\n",
       "      <th></th>\n",
       "      <th>date</th>\n",
       "      <th>code</th>\n",
       "      <th>return</th>\n",
       "    </tr>\n",
       "  </thead>\n",
       "  <tbody>\n",
       "    <tr>\n",
       "      <th>37420</th>\n",
       "      <td>2005-02-23</td>\n",
       "      <td>510050.SH</td>\n",
       "      <td>NaN</td>\n",
       "    </tr>\n",
       "    <tr>\n",
       "      <th>37421</th>\n",
       "      <td>2005-02-24</td>\n",
       "      <td>510050.SH</td>\n",
       "      <td>0.0000</td>\n",
       "    </tr>\n",
       "    <tr>\n",
       "      <th>37422</th>\n",
       "      <td>2005-02-25</td>\n",
       "      <td>510050.SH</td>\n",
       "      <td>0.4566</td>\n",
       "    </tr>\n",
       "    <tr>\n",
       "      <th>37423</th>\n",
       "      <td>2005-02-28</td>\n",
       "      <td>510050.SH</td>\n",
       "      <td>-0.9091</td>\n",
       "    </tr>\n",
       "    <tr>\n",
       "      <th>37424</th>\n",
       "      <td>2005-03-01</td>\n",
       "      <td>510050.SH</td>\n",
       "      <td>-0.5734</td>\n",
       "    </tr>\n",
       "  </tbody>\n",
       "</table>\n",
       "</div>"
      ],
      "text/plain": [
       "             date       code  return\n",
       "37420  2005-02-23  510050.SH     NaN\n",
       "37421  2005-02-24  510050.SH  0.0000\n",
       "37422  2005-02-25  510050.SH  0.4566\n",
       "37423  2005-02-28  510050.SH -0.9091\n",
       "37424  2005-03-01  510050.SH -0.5734"
      ]
     },
     "execution_count": 11,
     "metadata": {},
     "output_type": "execute_result"
    }
   ],
   "source": [
    "daily_funds_return.head()"
   ]
  },
  {
   "cell_type": "code",
   "execution_count": 12,
   "metadata": {},
   "outputs": [
    {
     "name": "stderr",
     "output_type": "stream",
     "text": [
      "/home/tnbaby/anaconda2/lib/python2.7/site-packages/pandas/core/indexing.py:337: SettingWithCopyWarning: \n",
      "A value is trying to be set on a copy of a slice from a DataFrame.\n",
      "Try using .loc[row_indexer,col_indexer] = value instead\n",
      "\n",
      "See the caveats in the documentation: http://pandas.pydata.org/pandas-docs/stable/indexing.html#indexing-view-versus-copy\n",
      "  self.obj[key] = _infer_fill_value(value)\n",
      "/home/tnbaby/anaconda2/lib/python2.7/site-packages/pandas/core/indexing.py:517: SettingWithCopyWarning: \n",
      "A value is trying to be set on a copy of a slice from a DataFrame.\n",
      "Try using .loc[row_indexer,col_indexer] = value instead\n",
      "\n",
      "See the caveats in the documentation: http://pandas.pydata.org/pandas-docs/stable/indexing.html#indexing-view-versus-copy\n",
      "  self.obj[item] = s\n"
     ]
    }
   ],
   "source": [
    "tmp = pd.to_datetime(daily_funds_return['date'])\n",
    "daily_funds_return.loc[:,'year'] = tmp.dt.year\n",
    "daily_funds_return.loc[:,'month'] = tmp.dt.month\n",
    "daily_funds_return.loc[:,'date'] = tmp.dt.date\n",
    "daily_funds_return.loc[:, 'day'] = tmp.dt.day"
   ]
  },
  {
   "cell_type": "code",
   "execution_count": 13,
   "metadata": {
    "collapsed": true
   },
   "outputs": [],
   "source": [
    "daily_funds_return = daily_funds_return[['date', 'year', 'month', 'day', 'code', 'return']]"
   ]
  },
  {
   "cell_type": "code",
   "execution_count": 14,
   "metadata": {},
   "outputs": [
    {
     "data": {
      "text/html": [
       "<div>\n",
       "<style>\n",
       "    .dataframe thead tr:only-child th {\n",
       "        text-align: right;\n",
       "    }\n",
       "\n",
       "    .dataframe thead th {\n",
       "        text-align: left;\n",
       "    }\n",
       "\n",
       "    .dataframe tbody tr th {\n",
       "        vertical-align: top;\n",
       "    }\n",
       "</style>\n",
       "<table border=\"1\" class=\"dataframe\">\n",
       "  <thead>\n",
       "    <tr style=\"text-align: right;\">\n",
       "      <th></th>\n",
       "      <th>date</th>\n",
       "      <th>year</th>\n",
       "      <th>month</th>\n",
       "      <th>day</th>\n",
       "      <th>code</th>\n",
       "      <th>return</th>\n",
       "    </tr>\n",
       "  </thead>\n",
       "  <tbody>\n",
       "    <tr>\n",
       "      <th>37420</th>\n",
       "      <td>2005-02-23</td>\n",
       "      <td>2005</td>\n",
       "      <td>2</td>\n",
       "      <td>23</td>\n",
       "      <td>510050.SH</td>\n",
       "      <td>NaN</td>\n",
       "    </tr>\n",
       "    <tr>\n",
       "      <th>37421</th>\n",
       "      <td>2005-02-24</td>\n",
       "      <td>2005</td>\n",
       "      <td>2</td>\n",
       "      <td>24</td>\n",
       "      <td>510050.SH</td>\n",
       "      <td>0.0000</td>\n",
       "    </tr>\n",
       "    <tr>\n",
       "      <th>37422</th>\n",
       "      <td>2005-02-25</td>\n",
       "      <td>2005</td>\n",
       "      <td>2</td>\n",
       "      <td>25</td>\n",
       "      <td>510050.SH</td>\n",
       "      <td>0.4566</td>\n",
       "    </tr>\n",
       "    <tr>\n",
       "      <th>37423</th>\n",
       "      <td>2005-02-28</td>\n",
       "      <td>2005</td>\n",
       "      <td>2</td>\n",
       "      <td>28</td>\n",
       "      <td>510050.SH</td>\n",
       "      <td>-0.9091</td>\n",
       "    </tr>\n",
       "    <tr>\n",
       "      <th>37424</th>\n",
       "      <td>2005-03-01</td>\n",
       "      <td>2005</td>\n",
       "      <td>3</td>\n",
       "      <td>1</td>\n",
       "      <td>510050.SH</td>\n",
       "      <td>-0.5734</td>\n",
       "    </tr>\n",
       "  </tbody>\n",
       "</table>\n",
       "</div>"
      ],
      "text/plain": [
       "             date  year  month  day       code  return\n",
       "37420  2005-02-23  2005      2   23  510050.SH     NaN\n",
       "37421  2005-02-24  2005      2   24  510050.SH  0.0000\n",
       "37422  2005-02-25  2005      2   25  510050.SH  0.4566\n",
       "37423  2005-02-28  2005      2   28  510050.SH -0.9091\n",
       "37424  2005-03-01  2005      3    1  510050.SH -0.5734"
      ]
     },
     "execution_count": 14,
     "metadata": {},
     "output_type": "execute_result"
    }
   ],
   "source": [
    "daily_funds_return.head()"
   ]
  },
  {
   "cell_type": "code",
   "execution_count": 15,
   "metadata": {},
   "outputs": [
    {
     "data": {
      "text/plain": [
       "Index([u'date', u'year', u'month', u'day', u'code', u'return'], dtype='object')"
      ]
     },
     "execution_count": 15,
     "metadata": {},
     "output_type": "execute_result"
    }
   ],
   "source": [
    "daily_funds_return.columns"
   ]
  },
  {
   "cell_type": "code",
   "execution_count": 16,
   "metadata": {},
   "outputs": [
    {
     "data": {
      "text/html": [
       "<div>\n",
       "<style>\n",
       "    .dataframe thead tr:only-child th {\n",
       "        text-align: right;\n",
       "    }\n",
       "\n",
       "    .dataframe thead th {\n",
       "        text-align: left;\n",
       "    }\n",
       "\n",
       "    .dataframe tbody tr th {\n",
       "        vertical-align: top;\n",
       "    }\n",
       "</style>\n",
       "<table border=\"1\" class=\"dataframe\">\n",
       "  <thead>\n",
       "    <tr style=\"text-align: right;\">\n",
       "      <th></th>\n",
       "      <th>date</th>\n",
       "      <th>year</th>\n",
       "      <th>month</th>\n",
       "      <th>day</th>\n",
       "      <th>code</th>\n",
       "      <th>return</th>\n",
       "    </tr>\n",
       "  </thead>\n",
       "  <tbody>\n",
       "    <tr>\n",
       "      <th>0</th>\n",
       "      <td>2005-02-24</td>\n",
       "      <td>2005</td>\n",
       "      <td>2</td>\n",
       "      <td>24</td>\n",
       "      <td>510050.SH</td>\n",
       "      <td>0.0000</td>\n",
       "    </tr>\n",
       "    <tr>\n",
       "      <th>1</th>\n",
       "      <td>2005-02-25</td>\n",
       "      <td>2005</td>\n",
       "      <td>2</td>\n",
       "      <td>25</td>\n",
       "      <td>510050.SH</td>\n",
       "      <td>0.4566</td>\n",
       "    </tr>\n",
       "    <tr>\n",
       "      <th>2</th>\n",
       "      <td>2005-02-28</td>\n",
       "      <td>2005</td>\n",
       "      <td>2</td>\n",
       "      <td>28</td>\n",
       "      <td>510050.SH</td>\n",
       "      <td>-0.9091</td>\n",
       "    </tr>\n",
       "    <tr>\n",
       "      <th>3</th>\n",
       "      <td>2005-03-01</td>\n",
       "      <td>2005</td>\n",
       "      <td>3</td>\n",
       "      <td>1</td>\n",
       "      <td>510050.SH</td>\n",
       "      <td>-0.5734</td>\n",
       "    </tr>\n",
       "    <tr>\n",
       "      <th>4</th>\n",
       "      <td>2005-03-02</td>\n",
       "      <td>2005</td>\n",
       "      <td>3</td>\n",
       "      <td>2</td>\n",
       "      <td>510050.SH</td>\n",
       "      <td>-0.9227</td>\n",
       "    </tr>\n",
       "  </tbody>\n",
       "</table>\n",
       "</div>"
      ],
      "text/plain": [
       "         date  year  month  day       code  return\n",
       "0  2005-02-24  2005      2   24  510050.SH  0.0000\n",
       "1  2005-02-25  2005      2   25  510050.SH  0.4566\n",
       "2  2005-02-28  2005      2   28  510050.SH -0.9091\n",
       "3  2005-03-01  2005      3    1  510050.SH -0.5734\n",
       "4  2005-03-02  2005      3    2  510050.SH -0.9227"
      ]
     },
     "execution_count": 16,
     "metadata": {},
     "output_type": "execute_result"
    }
   ],
   "source": [
    "daily_funds_return = daily_funds_return[~daily_funds_return['return'].isnull()]\n",
    "daily_funds_return.reset_index(drop=True, inplace=True)\n",
    "daily_funds_return.head()"
   ]
  },
  {
   "cell_type": "markdown",
   "metadata": {},
   "source": [
    "# import daily fundstyle data from daily data"
   ]
  },
  {
   "cell_type": "code",
   "execution_count": 17,
   "metadata": {
    "collapsed": true
   },
   "outputs": [],
   "source": [
    "daily_fund_style_data = pd.read_csv(os.path.join(daily_data_dir, 'daily_fund_style_index_data.csv'), encoding='utf-8')"
   ]
  },
  {
   "cell_type": "code",
   "execution_count": 18,
   "metadata": {},
   "outputs": [
    {
     "data": {
      "text/plain": [
       "(3592, 10)"
      ]
     },
     "execution_count": 18,
     "metadata": {},
     "output_type": "execute_result"
    }
   ],
   "source": [
    "daily_fund_style_data.shape"
   ]
  },
  {
   "cell_type": "code",
   "execution_count": 19,
   "metadata": {
    "scrolled": false
   },
   "outputs": [
    {
     "data": {
      "text/html": [
       "<div>\n",
       "<style>\n",
       "    .dataframe thead tr:only-child th {\n",
       "        text-align: right;\n",
       "    }\n",
       "\n",
       "    .dataframe thead th {\n",
       "        text-align: left;\n",
       "    }\n",
       "\n",
       "    .dataframe tbody tr th {\n",
       "        vertical-align: top;\n",
       "    }\n",
       "</style>\n",
       "<table border=\"1\" class=\"dataframe\">\n",
       "  <thead>\n",
       "    <tr style=\"text-align: right;\">\n",
       "      <th></th>\n",
       "      <th>日期</th>\n",
       "      <th>中证100指数</th>\n",
       "      <th>中债综合指数</th>\n",
       "      <th>中债总指数</th>\n",
       "      <th>中证500指数</th>\n",
       "      <th>中债综合指数.1</th>\n",
       "      <th>中债中短期债券指数</th>\n",
       "      <th>中债长期债券指数</th>\n",
       "      <th>中债短融AA指数</th>\n",
       "      <th>沪深300</th>\n",
       "    </tr>\n",
       "  </thead>\n",
       "  <tbody>\n",
       "    <tr>\n",
       "      <th>0</th>\n",
       "      <td>2017-10-20</td>\n",
       "      <td>3889.927</td>\n",
       "      <td>178.5158</td>\n",
       "      <td>169.1153</td>\n",
       "      <td>6647.892</td>\n",
       "      <td>178.5370</td>\n",
       "      <td>167.2458</td>\n",
       "      <td>172.9881</td>\n",
       "      <td>165.4065</td>\n",
       "      <td>3976.949</td>\n",
       "    </tr>\n",
       "    <tr>\n",
       "      <th>1</th>\n",
       "      <td>2017-10-19</td>\n",
       "      <td>3907.077</td>\n",
       "      <td>178.4871</td>\n",
       "      <td>169.1111</td>\n",
       "      <td>6603.004</td>\n",
       "      <td>178.5486</td>\n",
       "      <td>167.2319</td>\n",
       "      <td>173.0574</td>\n",
       "      <td>165.3832</td>\n",
       "      <td>3959.395</td>\n",
       "    </tr>\n",
       "    <tr>\n",
       "      <th>2</th>\n",
       "      <td>2017-10-18</td>\n",
       "      <td>3911.841</td>\n",
       "      <td>178.3602</td>\n",
       "      <td>169.0865</td>\n",
       "      <td>6612.763</td>\n",
       "      <td>178.5158</td>\n",
       "      <td>167.2136</td>\n",
       "      <td>172.9880</td>\n",
       "      <td>165.3446</td>\n",
       "      <td>3930.798</td>\n",
       "    </tr>\n",
       "    <tr>\n",
       "      <th>3</th>\n",
       "      <td>2017-10-17</td>\n",
       "      <td>3869.682</td>\n",
       "      <td>178.3354</td>\n",
       "      <td>169.0556</td>\n",
       "      <td>6571.424</td>\n",
       "      <td>178.4871</td>\n",
       "      <td>167.1888</td>\n",
       "      <td>172.9139</td>\n",
       "      <td>165.3035</td>\n",
       "      <td>3926.852</td>\n",
       "    </tr>\n",
       "    <tr>\n",
       "      <th>4</th>\n",
       "      <td>2017-10-16</td>\n",
       "      <td>3867.225</td>\n",
       "      <td>178.4674</td>\n",
       "      <td>168.9157</td>\n",
       "      <td>6501.399</td>\n",
       "      <td>178.3602</td>\n",
       "      <td>167.0750</td>\n",
       "      <td>172.5921</td>\n",
       "      <td>165.2788</td>\n",
       "      <td>3931.249</td>\n",
       "    </tr>\n",
       "  </tbody>\n",
       "</table>\n",
       "</div>"
      ],
      "text/plain": [
       "           日期   中证100指数    中债综合指数     中债总指数   中证500指数  中债综合指数.1  中债中短期债券指数  \\\n",
       "0  2017-10-20  3889.927  178.5158  169.1153  6647.892  178.5370   167.2458   \n",
       "1  2017-10-19  3907.077  178.4871  169.1111  6603.004  178.5486   167.2319   \n",
       "2  2017-10-18  3911.841  178.3602  169.0865  6612.763  178.5158   167.2136   \n",
       "3  2017-10-17  3869.682  178.3354  169.0556  6571.424  178.4871   167.1888   \n",
       "4  2017-10-16  3867.225  178.4674  168.9157  6501.399  178.3602   167.0750   \n",
       "\n",
       "   中债长期债券指数  中债短融AA指数     沪深300  \n",
       "0  172.9881  165.4065  3976.949  \n",
       "1  173.0574  165.3832  3959.395  \n",
       "2  172.9880  165.3446  3930.798  \n",
       "3  172.9139  165.3035  3926.852  \n",
       "4  172.5921  165.2788  3931.249  "
      ]
     },
     "execution_count": 19,
     "metadata": {},
     "output_type": "execute_result"
    }
   ],
   "source": [
    "daily_fund_style_data.head()"
   ]
  },
  {
   "cell_type": "code",
   "execution_count": 20,
   "metadata": {},
   "outputs": [
    {
     "data": {
      "text/plain": [
       "日期            object\n",
       "中证100指数      float64\n",
       "中债综合指数       float64\n",
       "中债总指数        float64\n",
       "中证500指数      float64\n",
       "中债综合指数.1     float64\n",
       "中债中短期债券指数    float64\n",
       "中债长期债券指数     float64\n",
       "中债短融AA指数     float64\n",
       "沪深300        float64\n",
       "dtype: object"
      ]
     },
     "execution_count": 20,
     "metadata": {},
     "output_type": "execute_result"
    }
   ],
   "source": [
    "daily_fund_style_data.dtypes"
   ]
  },
  {
   "cell_type": "code",
   "execution_count": 21,
   "metadata": {},
   "outputs": [
    {
     "data": {
      "text/plain": [
       "Index([u'日期', u'中证100指数', u'中债综合指数', u'中债总指数', u'中证500指数', u'中债综合指数.1',\n",
       "       u'中债中短期债券指数', u'中债长期债券指数', u'中债短融AA指数', u'沪深300'],\n",
       "      dtype='object')"
      ]
     },
     "execution_count": 21,
     "metadata": {},
     "output_type": "execute_result"
    }
   ],
   "source": [
    "daily_fund_style_data.columns"
   ]
  },
  {
   "cell_type": "code",
   "execution_count": 22,
   "metadata": {
    "collapsed": true
   },
   "outputs": [],
   "source": [
    "daily_fund_style_data = daily_fund_style_data[['日期'.decode('utf-8'), '中证100指数'.decode('utf-8'),\n",
    "                                                '中债综合指数'.decode('utf-8'),'中债总指数'.decode('utf-8'),\n",
    "                                               '中证500指数'.decode('utf-8'),'中债中短期债券指数'.decode('utf-8'),\n",
    "                                               '中债长期债券指数'.decode('utf-8'), '中债短融AA指数'.decode('utf-8'),\n",
    "                                              '沪深300'.decode('utf-8')]]"
   ]
  },
  {
   "cell_type": "code",
   "execution_count": 23,
   "metadata": {},
   "outputs": [
    {
     "data": {
      "text/plain": [
       "(3592, 9)"
      ]
     },
     "execution_count": 23,
     "metadata": {},
     "output_type": "execute_result"
    }
   ],
   "source": [
    "daily_fund_style_data.shape"
   ]
  },
  {
   "cell_type": "code",
   "execution_count": 24,
   "metadata": {
    "collapsed": true
   },
   "outputs": [],
   "source": [
    "daily_fund_style_data.columns = ['date', 'zhongzheng_100', 'zhongzhai_composite', 'zhongzhai_total', \n",
    "                                 'zhongzheng_500','zhongzhai_short_term','zhongzhai_long_term',\n",
    "                                 'zhongzhai_short_AA', 'sh300']"
   ]
  },
  {
   "cell_type": "code",
   "execution_count": 25,
   "metadata": {},
   "outputs": [
    {
     "data": {
      "text/html": [
       "<div>\n",
       "<style>\n",
       "    .dataframe thead tr:only-child th {\n",
       "        text-align: right;\n",
       "    }\n",
       "\n",
       "    .dataframe thead th {\n",
       "        text-align: left;\n",
       "    }\n",
       "\n",
       "    .dataframe tbody tr th {\n",
       "        vertical-align: top;\n",
       "    }\n",
       "</style>\n",
       "<table border=\"1\" class=\"dataframe\">\n",
       "  <thead>\n",
       "    <tr style=\"text-align: right;\">\n",
       "      <th></th>\n",
       "      <th>date</th>\n",
       "      <th>zhongzheng_100</th>\n",
       "      <th>zhongzhai_composite</th>\n",
       "      <th>zhongzhai_total</th>\n",
       "      <th>zhongzheng_500</th>\n",
       "      <th>zhongzhai_short_term</th>\n",
       "      <th>zhongzhai_long_term</th>\n",
       "      <th>zhongzhai_short_AA</th>\n",
       "      <th>sh300</th>\n",
       "    </tr>\n",
       "  </thead>\n",
       "  <tbody>\n",
       "    <tr>\n",
       "      <th>0</th>\n",
       "      <td>2017-10-20</td>\n",
       "      <td>3889.927</td>\n",
       "      <td>178.5158</td>\n",
       "      <td>169.1153</td>\n",
       "      <td>6647.892</td>\n",
       "      <td>167.2458</td>\n",
       "      <td>172.9881</td>\n",
       "      <td>165.4065</td>\n",
       "      <td>3976.949</td>\n",
       "    </tr>\n",
       "    <tr>\n",
       "      <th>1</th>\n",
       "      <td>2017-10-19</td>\n",
       "      <td>3907.077</td>\n",
       "      <td>178.4871</td>\n",
       "      <td>169.1111</td>\n",
       "      <td>6603.004</td>\n",
       "      <td>167.2319</td>\n",
       "      <td>173.0574</td>\n",
       "      <td>165.3832</td>\n",
       "      <td>3959.395</td>\n",
       "    </tr>\n",
       "    <tr>\n",
       "      <th>2</th>\n",
       "      <td>2017-10-18</td>\n",
       "      <td>3911.841</td>\n",
       "      <td>178.3602</td>\n",
       "      <td>169.0865</td>\n",
       "      <td>6612.763</td>\n",
       "      <td>167.2136</td>\n",
       "      <td>172.9880</td>\n",
       "      <td>165.3446</td>\n",
       "      <td>3930.798</td>\n",
       "    </tr>\n",
       "    <tr>\n",
       "      <th>3</th>\n",
       "      <td>2017-10-17</td>\n",
       "      <td>3869.682</td>\n",
       "      <td>178.3354</td>\n",
       "      <td>169.0556</td>\n",
       "      <td>6571.424</td>\n",
       "      <td>167.1888</td>\n",
       "      <td>172.9139</td>\n",
       "      <td>165.3035</td>\n",
       "      <td>3926.852</td>\n",
       "    </tr>\n",
       "    <tr>\n",
       "      <th>4</th>\n",
       "      <td>2017-10-16</td>\n",
       "      <td>3867.225</td>\n",
       "      <td>178.4674</td>\n",
       "      <td>168.9157</td>\n",
       "      <td>6501.399</td>\n",
       "      <td>167.0750</td>\n",
       "      <td>172.5921</td>\n",
       "      <td>165.2788</td>\n",
       "      <td>3931.249</td>\n",
       "    </tr>\n",
       "  </tbody>\n",
       "</table>\n",
       "</div>"
      ],
      "text/plain": [
       "         date  zhongzheng_100  zhongzhai_composite  zhongzhai_total  \\\n",
       "0  2017-10-20        3889.927             178.5158         169.1153   \n",
       "1  2017-10-19        3907.077             178.4871         169.1111   \n",
       "2  2017-10-18        3911.841             178.3602         169.0865   \n",
       "3  2017-10-17        3869.682             178.3354         169.0556   \n",
       "4  2017-10-16        3867.225             178.4674         168.9157   \n",
       "\n",
       "   zhongzheng_500  zhongzhai_short_term  zhongzhai_long_term  \\\n",
       "0        6647.892              167.2458             172.9881   \n",
       "1        6603.004              167.2319             173.0574   \n",
       "2        6612.763              167.2136             172.9880   \n",
       "3        6571.424              167.1888             172.9139   \n",
       "4        6501.399              167.0750             172.5921   \n",
       "\n",
       "   zhongzhai_short_AA     sh300  \n",
       "0            165.4065  3976.949  \n",
       "1            165.3832  3959.395  \n",
       "2            165.3446  3930.798  \n",
       "3            165.3035  3926.852  \n",
       "4            165.2788  3931.249  "
      ]
     },
     "execution_count": 25,
     "metadata": {},
     "output_type": "execute_result"
    }
   ],
   "source": [
    "daily_fund_style_data.head()"
   ]
  },
  {
   "cell_type": "code",
   "execution_count": 26,
   "metadata": {
    "collapsed": true
   },
   "outputs": [],
   "source": [
    "daily_fund_style_data['date'] = pd.to_datetime(daily_fund_style_data['date'])\n",
    "daily_fund_style_data['year'] = daily_fund_style_data['date'].dt.year\n",
    "daily_fund_style_data['month'] = daily_fund_style_data['date'].dt.month\n",
    "daily_fund_style_data['day'] = daily_fund_style_data['date'].dt.day\n",
    "daily_fund_style_data['date'] = daily_fund_style_data['date'].dt.date"
   ]
  },
  {
   "cell_type": "code",
   "execution_count": 27,
   "metadata": {
    "collapsed": true
   },
   "outputs": [],
   "source": [
    "daily_fund_style_data = daily_fund_style_data[['date', 'year', 'month', 'day','zhongzheng_100', 'zhongzhai_composite',\n",
    "                                'zhongzhai_total', 'zhongzheng_500', 'zhongzhai_short_term','zhongzhai_long_term',\n",
    "                                'zhongzhai_short_AA', 'sh300']]"
   ]
  },
  {
   "cell_type": "code",
   "execution_count": 28,
   "metadata": {
    "collapsed": true
   },
   "outputs": [],
   "source": [
    "daily_fund_style_data = daily_fund_style_data[~daily_fund_style_data['zhongzheng_500'].isnull()]"
   ]
  },
  {
   "cell_type": "code",
   "execution_count": 29,
   "metadata": {
    "collapsed": true
   },
   "outputs": [],
   "source": [
    "daily_fund_style_data.sort_values(['date'], ascending=[True], inplace=True)\n",
    "daily_fund_style_data.reset_index(drop=True, inplace=True)"
   ]
  },
  {
   "cell_type": "code",
   "execution_count": 30,
   "metadata": {},
   "outputs": [
    {
     "data": {
      "text/html": [
       "<div>\n",
       "<style>\n",
       "    .dataframe thead tr:only-child th {\n",
       "        text-align: right;\n",
       "    }\n",
       "\n",
       "    .dataframe thead th {\n",
       "        text-align: left;\n",
       "    }\n",
       "\n",
       "    .dataframe tbody tr th {\n",
       "        vertical-align: top;\n",
       "    }\n",
       "</style>\n",
       "<table border=\"1\" class=\"dataframe\">\n",
       "  <thead>\n",
       "    <tr style=\"text-align: right;\">\n",
       "      <th></th>\n",
       "      <th>date</th>\n",
       "      <th>year</th>\n",
       "      <th>month</th>\n",
       "      <th>day</th>\n",
       "      <th>zhongzheng_100</th>\n",
       "      <th>zhongzhai_composite</th>\n",
       "      <th>zhongzhai_total</th>\n",
       "      <th>zhongzheng_500</th>\n",
       "      <th>zhongzhai_short_term</th>\n",
       "      <th>zhongzhai_long_term</th>\n",
       "      <th>zhongzhai_short_AA</th>\n",
       "      <th>sh300</th>\n",
       "    </tr>\n",
       "  </thead>\n",
       "  <tbody>\n",
       "    <tr>\n",
       "      <th>0</th>\n",
       "      <td>2007-01-09</td>\n",
       "      <td>2007</td>\n",
       "      <td>1</td>\n",
       "      <td>9</td>\n",
       "      <td>2428.57</td>\n",
       "      <td>118.8034</td>\n",
       "      <td>115.1045</td>\n",
       "      <td>1986.539</td>\n",
       "      <td>115.2119</td>\n",
       "      <td>113.8034</td>\n",
       "      <td>103.1844</td>\n",
       "      <td>2287.342</td>\n",
       "    </tr>\n",
       "    <tr>\n",
       "      <th>1</th>\n",
       "      <td>2007-01-10</td>\n",
       "      <td>2007</td>\n",
       "      <td>1</td>\n",
       "      <td>10</td>\n",
       "      <td>2482.90</td>\n",
       "      <td>118.7757</td>\n",
       "      <td>115.1567</td>\n",
       "      <td>2055.016</td>\n",
       "      <td>115.2738</td>\n",
       "      <td>113.7886</td>\n",
       "      <td>103.1982</td>\n",
       "      <td>2353.874</td>\n",
       "    </tr>\n",
       "    <tr>\n",
       "      <th>2</th>\n",
       "      <td>2007-01-11</td>\n",
       "      <td>2007</td>\n",
       "      <td>1</td>\n",
       "      <td>11</td>\n",
       "      <td>2449.00</td>\n",
       "      <td>118.7436</td>\n",
       "      <td>115.1882</td>\n",
       "      <td>2035.651</td>\n",
       "      <td>115.2981</td>\n",
       "      <td>113.8712</td>\n",
       "      <td>103.2062</td>\n",
       "      <td>2308.931</td>\n",
       "    </tr>\n",
       "    <tr>\n",
       "      <th>3</th>\n",
       "      <td>2007-01-12</td>\n",
       "      <td>2007</td>\n",
       "      <td>1</td>\n",
       "      <td>12</td>\n",
       "      <td>2394.84</td>\n",
       "      <td>118.7780</td>\n",
       "      <td>115.2404</td>\n",
       "      <td>2085.403</td>\n",
       "      <td>115.3529</td>\n",
       "      <td>113.9019</td>\n",
       "      <td>103.2468</td>\n",
       "      <td>2317.095</td>\n",
       "    </tr>\n",
       "    <tr>\n",
       "      <th>4</th>\n",
       "      <td>2007-01-15</td>\n",
       "      <td>2007</td>\n",
       "      <td>1</td>\n",
       "      <td>15</td>\n",
       "      <td>2518.63</td>\n",
       "      <td>118.7930</td>\n",
       "      <td>115.2581</td>\n",
       "      <td>2159.638</td>\n",
       "      <td>115.3657</td>\n",
       "      <td>113.9585</td>\n",
       "      <td>103.2779</td>\n",
       "      <td>2396.093</td>\n",
       "    </tr>\n",
       "  </tbody>\n",
       "</table>\n",
       "</div>"
      ],
      "text/plain": [
       "         date  year  month  day  zhongzheng_100  zhongzhai_composite  \\\n",
       "0  2007-01-09  2007      1    9         2428.57             118.8034   \n",
       "1  2007-01-10  2007      1   10         2482.90             118.7757   \n",
       "2  2007-01-11  2007      1   11         2449.00             118.7436   \n",
       "3  2007-01-12  2007      1   12         2394.84             118.7780   \n",
       "4  2007-01-15  2007      1   15         2518.63             118.7930   \n",
       "\n",
       "   zhongzhai_total  zhongzheng_500  zhongzhai_short_term  zhongzhai_long_term  \\\n",
       "0         115.1045        1986.539              115.2119             113.8034   \n",
       "1         115.1567        2055.016              115.2738             113.7886   \n",
       "2         115.1882        2035.651              115.2981             113.8712   \n",
       "3         115.2404        2085.403              115.3529             113.9019   \n",
       "4         115.2581        2159.638              115.3657             113.9585   \n",
       "\n",
       "   zhongzhai_short_AA     sh300  \n",
       "0            103.1844  2287.342  \n",
       "1            103.1982  2353.874  \n",
       "2            103.2062  2308.931  \n",
       "3            103.2468  2317.095  \n",
       "4            103.2779  2396.093  "
      ]
     },
     "execution_count": 30,
     "metadata": {},
     "output_type": "execute_result"
    }
   ],
   "source": [
    "daily_fund_style_data.head()"
   ]
  },
  {
   "cell_type": "code",
   "execution_count": 31,
   "metadata": {
    "collapsed": true
   },
   "outputs": [],
   "source": [
    "daily_fund_style_data_month_end = daily_fund_style_data.sort_values('day',\n",
    "                                        ascending=[False]).groupby(['year','month'], as_index=False).first()"
   ]
  },
  {
   "cell_type": "code",
   "execution_count": 32,
   "metadata": {},
   "outputs": [
    {
     "data": {
      "text/html": [
       "<div>\n",
       "<style>\n",
       "    .dataframe thead tr:only-child th {\n",
       "        text-align: right;\n",
       "    }\n",
       "\n",
       "    .dataframe thead th {\n",
       "        text-align: left;\n",
       "    }\n",
       "\n",
       "    .dataframe tbody tr th {\n",
       "        vertical-align: top;\n",
       "    }\n",
       "</style>\n",
       "<table border=\"1\" class=\"dataframe\">\n",
       "  <thead>\n",
       "    <tr style=\"text-align: right;\">\n",
       "      <th></th>\n",
       "      <th>year</th>\n",
       "      <th>month</th>\n",
       "      <th>date</th>\n",
       "      <th>day</th>\n",
       "      <th>zhongzheng_100</th>\n",
       "      <th>zhongzhai_composite</th>\n",
       "      <th>zhongzhai_total</th>\n",
       "      <th>zhongzheng_500</th>\n",
       "      <th>zhongzhai_short_term</th>\n",
       "      <th>zhongzhai_long_term</th>\n",
       "      <th>zhongzhai_short_AA</th>\n",
       "      <th>sh300</th>\n",
       "    </tr>\n",
       "  </thead>\n",
       "  <tbody>\n",
       "    <tr>\n",
       "      <th>0</th>\n",
       "      <td>2007</td>\n",
       "      <td>1</td>\n",
       "      <td>2007-01-31</td>\n",
       "      <td>31</td>\n",
       "      <td>2598.93</td>\n",
       "      <td>118.3049</td>\n",
       "      <td>114.1956</td>\n",
       "      <td>2198.239</td>\n",
       "      <td>114.7180</td>\n",
       "      <td>109.9300</td>\n",
       "      <td>103.4423</td>\n",
       "      <td>2316.040</td>\n",
       "    </tr>\n",
       "    <tr>\n",
       "      <th>1</th>\n",
       "      <td>2007</td>\n",
       "      <td>2</td>\n",
       "      <td>2007-02-28</td>\n",
       "      <td>28</td>\n",
       "      <td>2658.83</td>\n",
       "      <td>117.9083</td>\n",
       "      <td>113.7071</td>\n",
       "      <td>2516.003</td>\n",
       "      <td>114.4387</td>\n",
       "      <td>107.9980</td>\n",
       "      <td>103.6775</td>\n",
       "      <td>2520.293</td>\n",
       "    </tr>\n",
       "    <tr>\n",
       "      <th>2</th>\n",
       "      <td>2007</td>\n",
       "      <td>3</td>\n",
       "      <td>2007-03-30</td>\n",
       "      <td>30</td>\n",
       "      <td>2877.97</td>\n",
       "      <td>116.8937</td>\n",
       "      <td>112.6118</td>\n",
       "      <td>3133.142</td>\n",
       "      <td>113.8441</td>\n",
       "      <td>103.4275</td>\n",
       "      <td>103.9038</td>\n",
       "      <td>2945.045</td>\n",
       "    </tr>\n",
       "    <tr>\n",
       "      <th>3</th>\n",
       "      <td>2007</td>\n",
       "      <td>4</td>\n",
       "      <td>2007-04-30</td>\n",
       "      <td>30</td>\n",
       "      <td>3515.81</td>\n",
       "      <td>117.3977</td>\n",
       "      <td>113.4035</td>\n",
       "      <td>4109.403</td>\n",
       "      <td>114.5421</td>\n",
       "      <td>104.8780</td>\n",
       "      <td>104.2122</td>\n",
       "      <td>3702.612</td>\n",
       "    </tr>\n",
       "    <tr>\n",
       "      <th>4</th>\n",
       "      <td>2007</td>\n",
       "      <td>5</td>\n",
       "      <td>2007-05-31</td>\n",
       "      <td>31</td>\n",
       "      <td>3874.77</td>\n",
       "      <td>117.9826</td>\n",
       "      <td>114.0993</td>\n",
       "      <td>3736.931</td>\n",
       "      <td>115.1444</td>\n",
       "      <td>106.2162</td>\n",
       "      <td>104.4685</td>\n",
       "      <td>3677.580</td>\n",
       "    </tr>\n",
       "  </tbody>\n",
       "</table>\n",
       "</div>"
      ],
      "text/plain": [
       "   year  month        date  day  zhongzheng_100  zhongzhai_composite  \\\n",
       "0  2007      1  2007-01-31   31         2598.93             118.3049   \n",
       "1  2007      2  2007-02-28   28         2658.83             117.9083   \n",
       "2  2007      3  2007-03-30   30         2877.97             116.8937   \n",
       "3  2007      4  2007-04-30   30         3515.81             117.3977   \n",
       "4  2007      5  2007-05-31   31         3874.77             117.9826   \n",
       "\n",
       "   zhongzhai_total  zhongzheng_500  zhongzhai_short_term  zhongzhai_long_term  \\\n",
       "0         114.1956        2198.239              114.7180             109.9300   \n",
       "1         113.7071        2516.003              114.4387             107.9980   \n",
       "2         112.6118        3133.142              113.8441             103.4275   \n",
       "3         113.4035        4109.403              114.5421             104.8780   \n",
       "4         114.0993        3736.931              115.1444             106.2162   \n",
       "\n",
       "   zhongzhai_short_AA     sh300  \n",
       "0            103.4423  2316.040  \n",
       "1            103.6775  2520.293  \n",
       "2            103.9038  2945.045  \n",
       "3            104.2122  3702.612  \n",
       "4            104.4685  3677.580  "
      ]
     },
     "execution_count": 32,
     "metadata": {},
     "output_type": "execute_result"
    }
   ],
   "source": [
    "daily_fund_style_data_month_end.head()"
   ]
  },
  {
   "cell_type": "markdown",
   "metadata": {},
   "source": [
    "# merge daily_funds_data with daily_fund style index return data"
   ]
  },
  {
   "cell_type": "code",
   "execution_count": 33,
   "metadata": {},
   "outputs": [
    {
     "data": {
      "text/plain": [
       "Index([u'date', u'year', u'month', u'day', u'code', u'return'], dtype='object')"
      ]
     },
     "execution_count": 33,
     "metadata": {},
     "output_type": "execute_result"
    }
   ],
   "source": [
    "daily_funds_return.columns"
   ]
  },
  {
   "cell_type": "code",
   "execution_count": 34,
   "metadata": {},
   "outputs": [
    {
     "data": {
      "text/plain": [
       "Index([u'date', u'year', u'month', u'day', u'zhongzheng_100',\n",
       "       u'zhongzhai_composite', u'zhongzhai_total', u'zhongzheng_500',\n",
       "       u'zhongzhai_short_term', u'zhongzhai_long_term', u'zhongzhai_short_AA',\n",
       "       u'sh300'],\n",
       "      dtype='object')"
      ]
     },
     "execution_count": 34,
     "metadata": {},
     "output_type": "execute_result"
    }
   ],
   "source": [
    "daily_fund_style_data.columns"
   ]
  },
  {
   "cell_type": "code",
   "execution_count": 35,
   "metadata": {
    "collapsed": true
   },
   "outputs": [],
   "source": [
    "#daily_funds_return = daily_funds_return[daily_funds_return['year'] >= 2006]"
   ]
  },
  {
   "cell_type": "code",
   "execution_count": 36,
   "metadata": {},
   "outputs": [
    {
     "data": {
      "text/html": [
       "<div>\n",
       "<style>\n",
       "    .dataframe thead tr:only-child th {\n",
       "        text-align: right;\n",
       "    }\n",
       "\n",
       "    .dataframe thead th {\n",
       "        text-align: left;\n",
       "    }\n",
       "\n",
       "    .dataframe tbody tr th {\n",
       "        vertical-align: top;\n",
       "    }\n",
       "</style>\n",
       "<table border=\"1\" class=\"dataframe\">\n",
       "  <thead>\n",
       "    <tr style=\"text-align: right;\">\n",
       "      <th></th>\n",
       "      <th>date</th>\n",
       "      <th>year</th>\n",
       "      <th>month</th>\n",
       "      <th>day</th>\n",
       "      <th>zhongzheng_100</th>\n",
       "      <th>zhongzhai_composite</th>\n",
       "      <th>zhongzhai_total</th>\n",
       "      <th>zhongzheng_500</th>\n",
       "      <th>zhongzhai_short_term</th>\n",
       "      <th>zhongzhai_long_term</th>\n",
       "      <th>zhongzhai_short_AA</th>\n",
       "      <th>sh300</th>\n",
       "    </tr>\n",
       "  </thead>\n",
       "  <tbody>\n",
       "    <tr>\n",
       "      <th>0</th>\n",
       "      <td>2007-01-09</td>\n",
       "      <td>2007</td>\n",
       "      <td>1</td>\n",
       "      <td>9</td>\n",
       "      <td>2428.57</td>\n",
       "      <td>118.8034</td>\n",
       "      <td>115.1045</td>\n",
       "      <td>1986.539</td>\n",
       "      <td>115.2119</td>\n",
       "      <td>113.8034</td>\n",
       "      <td>103.1844</td>\n",
       "      <td>2287.342</td>\n",
       "    </tr>\n",
       "    <tr>\n",
       "      <th>1</th>\n",
       "      <td>2007-01-10</td>\n",
       "      <td>2007</td>\n",
       "      <td>1</td>\n",
       "      <td>10</td>\n",
       "      <td>2482.90</td>\n",
       "      <td>118.7757</td>\n",
       "      <td>115.1567</td>\n",
       "      <td>2055.016</td>\n",
       "      <td>115.2738</td>\n",
       "      <td>113.7886</td>\n",
       "      <td>103.1982</td>\n",
       "      <td>2353.874</td>\n",
       "    </tr>\n",
       "    <tr>\n",
       "      <th>2</th>\n",
       "      <td>2007-01-11</td>\n",
       "      <td>2007</td>\n",
       "      <td>1</td>\n",
       "      <td>11</td>\n",
       "      <td>2449.00</td>\n",
       "      <td>118.7436</td>\n",
       "      <td>115.1882</td>\n",
       "      <td>2035.651</td>\n",
       "      <td>115.2981</td>\n",
       "      <td>113.8712</td>\n",
       "      <td>103.2062</td>\n",
       "      <td>2308.931</td>\n",
       "    </tr>\n",
       "    <tr>\n",
       "      <th>3</th>\n",
       "      <td>2007-01-12</td>\n",
       "      <td>2007</td>\n",
       "      <td>1</td>\n",
       "      <td>12</td>\n",
       "      <td>2394.84</td>\n",
       "      <td>118.7780</td>\n",
       "      <td>115.2404</td>\n",
       "      <td>2085.403</td>\n",
       "      <td>115.3529</td>\n",
       "      <td>113.9019</td>\n",
       "      <td>103.2468</td>\n",
       "      <td>2317.095</td>\n",
       "    </tr>\n",
       "    <tr>\n",
       "      <th>4</th>\n",
       "      <td>2007-01-15</td>\n",
       "      <td>2007</td>\n",
       "      <td>1</td>\n",
       "      <td>15</td>\n",
       "      <td>2518.63</td>\n",
       "      <td>118.7930</td>\n",
       "      <td>115.2581</td>\n",
       "      <td>2159.638</td>\n",
       "      <td>115.3657</td>\n",
       "      <td>113.9585</td>\n",
       "      <td>103.2779</td>\n",
       "      <td>2396.093</td>\n",
       "    </tr>\n",
       "  </tbody>\n",
       "</table>\n",
       "</div>"
      ],
      "text/plain": [
       "         date  year  month  day  zhongzheng_100  zhongzhai_composite  \\\n",
       "0  2007-01-09  2007      1    9         2428.57             118.8034   \n",
       "1  2007-01-10  2007      1   10         2482.90             118.7757   \n",
       "2  2007-01-11  2007      1   11         2449.00             118.7436   \n",
       "3  2007-01-12  2007      1   12         2394.84             118.7780   \n",
       "4  2007-01-15  2007      1   15         2518.63             118.7930   \n",
       "\n",
       "   zhongzhai_total  zhongzheng_500  zhongzhai_short_term  zhongzhai_long_term  \\\n",
       "0         115.1045        1986.539              115.2119             113.8034   \n",
       "1         115.1567        2055.016              115.2738             113.7886   \n",
       "2         115.1882        2035.651              115.2981             113.8712   \n",
       "3         115.2404        2085.403              115.3529             113.9019   \n",
       "4         115.2581        2159.638              115.3657             113.9585   \n",
       "\n",
       "   zhongzhai_short_AA     sh300  \n",
       "0            103.1844  2287.342  \n",
       "1            103.1982  2353.874  \n",
       "2            103.2062  2308.931  \n",
       "3            103.2468  2317.095  \n",
       "4            103.2779  2396.093  "
      ]
     },
     "execution_count": 36,
     "metadata": {},
     "output_type": "execute_result"
    }
   ],
   "source": [
    "daily_fund_style_data.head()"
   ]
  },
  {
   "cell_type": "markdown",
   "metadata": {},
   "source": [
    "## calculate daily returns for these fund style index"
   ]
  },
  {
   "cell_type": "code",
   "execution_count": 37,
   "metadata": {
    "collapsed": true
   },
   "outputs": [],
   "source": [
    "daily_fund_style_data_columns = list(daily_fund_style_data.columns)"
   ]
  },
  {
   "cell_type": "code",
   "execution_count": 38,
   "metadata": {},
   "outputs": [
    {
     "data": {
      "text/plain": [
       "['date',\n",
       " 'year',\n",
       " 'month',\n",
       " 'day',\n",
       " 'zhongzheng_100',\n",
       " 'zhongzhai_composite',\n",
       " 'zhongzhai_total',\n",
       " 'zhongzheng_500',\n",
       " 'zhongzhai_short_term',\n",
       " 'zhongzhai_long_term',\n",
       " 'zhongzhai_short_AA',\n",
       " 'sh300']"
      ]
     },
     "execution_count": 38,
     "metadata": {},
     "output_type": "execute_result"
    }
   ],
   "source": [
    "daily_fund_style_data_columns"
   ]
  },
  {
   "cell_type": "code",
   "execution_count": 39,
   "metadata": {},
   "outputs": [
    {
     "data": {
      "text/html": [
       "<div>\n",
       "<style>\n",
       "    .dataframe thead tr:only-child th {\n",
       "        text-align: right;\n",
       "    }\n",
       "\n",
       "    .dataframe thead th {\n",
       "        text-align: left;\n",
       "    }\n",
       "\n",
       "    .dataframe tbody tr th {\n",
       "        vertical-align: top;\n",
       "    }\n",
       "</style>\n",
       "<table border=\"1\" class=\"dataframe\">\n",
       "  <thead>\n",
       "    <tr style=\"text-align: right;\">\n",
       "      <th></th>\n",
       "      <th>date</th>\n",
       "      <th>year</th>\n",
       "      <th>month</th>\n",
       "      <th>day</th>\n",
       "      <th>zhongzheng_100</th>\n",
       "      <th>zhongzhai_composite</th>\n",
       "      <th>zhongzhai_total</th>\n",
       "      <th>zhongzheng_500</th>\n",
       "      <th>zhongzhai_short_term</th>\n",
       "      <th>zhongzhai_long_term</th>\n",
       "      <th>...</th>\n",
       "      <th>zhongzheng_500_shift</th>\n",
       "      <th>zhongzheng_500_return</th>\n",
       "      <th>zhongzhai_short_term_shift</th>\n",
       "      <th>zhongzhai_short_term_return</th>\n",
       "      <th>zhongzhai_long_term_shift</th>\n",
       "      <th>zhongzhai_long_term_return</th>\n",
       "      <th>zhongzhai_short_AA_shift</th>\n",
       "      <th>zhongzhai_short_AA_return</th>\n",
       "      <th>sh300_shift</th>\n",
       "      <th>sh300_return</th>\n",
       "    </tr>\n",
       "  </thead>\n",
       "  <tbody>\n",
       "    <tr>\n",
       "      <th>0</th>\n",
       "      <td>2007-01-09</td>\n",
       "      <td>2007</td>\n",
       "      <td>1</td>\n",
       "      <td>9</td>\n",
       "      <td>2428.57</td>\n",
       "      <td>118.8034</td>\n",
       "      <td>115.1045</td>\n",
       "      <td>1986.539</td>\n",
       "      <td>115.2119</td>\n",
       "      <td>113.8034</td>\n",
       "      <td>...</td>\n",
       "      <td>NaN</td>\n",
       "      <td>NaN</td>\n",
       "      <td>NaN</td>\n",
       "      <td>NaN</td>\n",
       "      <td>NaN</td>\n",
       "      <td>NaN</td>\n",
       "      <td>NaN</td>\n",
       "      <td>NaN</td>\n",
       "      <td>NaN</td>\n",
       "      <td>NaN</td>\n",
       "    </tr>\n",
       "    <tr>\n",
       "      <th>1</th>\n",
       "      <td>2007-01-10</td>\n",
       "      <td>2007</td>\n",
       "      <td>1</td>\n",
       "      <td>10</td>\n",
       "      <td>2482.90</td>\n",
       "      <td>118.7757</td>\n",
       "      <td>115.1567</td>\n",
       "      <td>2055.016</td>\n",
       "      <td>115.2738</td>\n",
       "      <td>113.7886</td>\n",
       "      <td>...</td>\n",
       "      <td>1986.539</td>\n",
       "      <td>0.034471</td>\n",
       "      <td>115.2119</td>\n",
       "      <td>0.000537</td>\n",
       "      <td>113.8034</td>\n",
       "      <td>-0.000130</td>\n",
       "      <td>103.1844</td>\n",
       "      <td>0.000134</td>\n",
       "      <td>2287.342</td>\n",
       "      <td>0.029087</td>\n",
       "    </tr>\n",
       "    <tr>\n",
       "      <th>2</th>\n",
       "      <td>2007-01-11</td>\n",
       "      <td>2007</td>\n",
       "      <td>1</td>\n",
       "      <td>11</td>\n",
       "      <td>2449.00</td>\n",
       "      <td>118.7436</td>\n",
       "      <td>115.1882</td>\n",
       "      <td>2035.651</td>\n",
       "      <td>115.2981</td>\n",
       "      <td>113.8712</td>\n",
       "      <td>...</td>\n",
       "      <td>2055.016</td>\n",
       "      <td>-0.009423</td>\n",
       "      <td>115.2738</td>\n",
       "      <td>0.000211</td>\n",
       "      <td>113.7886</td>\n",
       "      <td>0.000726</td>\n",
       "      <td>103.1982</td>\n",
       "      <td>0.000078</td>\n",
       "      <td>2353.874</td>\n",
       "      <td>-0.019093</td>\n",
       "    </tr>\n",
       "    <tr>\n",
       "      <th>3</th>\n",
       "      <td>2007-01-12</td>\n",
       "      <td>2007</td>\n",
       "      <td>1</td>\n",
       "      <td>12</td>\n",
       "      <td>2394.84</td>\n",
       "      <td>118.7780</td>\n",
       "      <td>115.2404</td>\n",
       "      <td>2085.403</td>\n",
       "      <td>115.3529</td>\n",
       "      <td>113.9019</td>\n",
       "      <td>...</td>\n",
       "      <td>2035.651</td>\n",
       "      <td>0.024440</td>\n",
       "      <td>115.2981</td>\n",
       "      <td>0.000475</td>\n",
       "      <td>113.8712</td>\n",
       "      <td>0.000270</td>\n",
       "      <td>103.2062</td>\n",
       "      <td>0.000393</td>\n",
       "      <td>2308.931</td>\n",
       "      <td>0.003536</td>\n",
       "    </tr>\n",
       "    <tr>\n",
       "      <th>4</th>\n",
       "      <td>2007-01-15</td>\n",
       "      <td>2007</td>\n",
       "      <td>1</td>\n",
       "      <td>15</td>\n",
       "      <td>2518.63</td>\n",
       "      <td>118.7930</td>\n",
       "      <td>115.2581</td>\n",
       "      <td>2159.638</td>\n",
       "      <td>115.3657</td>\n",
       "      <td>113.9585</td>\n",
       "      <td>...</td>\n",
       "      <td>2085.403</td>\n",
       "      <td>0.035597</td>\n",
       "      <td>115.3529</td>\n",
       "      <td>0.000111</td>\n",
       "      <td>113.9019</td>\n",
       "      <td>0.000497</td>\n",
       "      <td>103.2468</td>\n",
       "      <td>0.000301</td>\n",
       "      <td>2317.095</td>\n",
       "      <td>0.034094</td>\n",
       "    </tr>\n",
       "  </tbody>\n",
       "</table>\n",
       "<p>5 rows × 28 columns</p>\n",
       "</div>"
      ],
      "text/plain": [
       "         date  year  month  day  zhongzheng_100  zhongzhai_composite  \\\n",
       "0  2007-01-09  2007      1    9         2428.57             118.8034   \n",
       "1  2007-01-10  2007      1   10         2482.90             118.7757   \n",
       "2  2007-01-11  2007      1   11         2449.00             118.7436   \n",
       "3  2007-01-12  2007      1   12         2394.84             118.7780   \n",
       "4  2007-01-15  2007      1   15         2518.63             118.7930   \n",
       "\n",
       "   zhongzhai_total  zhongzheng_500  zhongzhai_short_term  zhongzhai_long_term  \\\n",
       "0         115.1045        1986.539              115.2119             113.8034   \n",
       "1         115.1567        2055.016              115.2738             113.7886   \n",
       "2         115.1882        2035.651              115.2981             113.8712   \n",
       "3         115.2404        2085.403              115.3529             113.9019   \n",
       "4         115.2581        2159.638              115.3657             113.9585   \n",
       "\n",
       "       ...       zhongzheng_500_shift  zhongzheng_500_return  \\\n",
       "0      ...                        NaN                    NaN   \n",
       "1      ...                   1986.539               0.034471   \n",
       "2      ...                   2055.016              -0.009423   \n",
       "3      ...                   2035.651               0.024440   \n",
       "4      ...                   2085.403               0.035597   \n",
       "\n",
       "   zhongzhai_short_term_shift  zhongzhai_short_term_return  \\\n",
       "0                         NaN                          NaN   \n",
       "1                    115.2119                     0.000537   \n",
       "2                    115.2738                     0.000211   \n",
       "3                    115.2981                     0.000475   \n",
       "4                    115.3529                     0.000111   \n",
       "\n",
       "   zhongzhai_long_term_shift  zhongzhai_long_term_return  \\\n",
       "0                        NaN                         NaN   \n",
       "1                   113.8034                   -0.000130   \n",
       "2                   113.7886                    0.000726   \n",
       "3                   113.8712                    0.000270   \n",
       "4                   113.9019                    0.000497   \n",
       "\n",
       "   zhongzhai_short_AA_shift  zhongzhai_short_AA_return  sh300_shift  \\\n",
       "0                       NaN                        NaN          NaN   \n",
       "1                  103.1844                   0.000134     2287.342   \n",
       "2                  103.1982                   0.000078     2353.874   \n",
       "3                  103.2062                   0.000393     2308.931   \n",
       "4                  103.2468                   0.000301     2317.095   \n",
       "\n",
       "   sh300_return  \n",
       "0           NaN  \n",
       "1      0.029087  \n",
       "2     -0.019093  \n",
       "3      0.003536  \n",
       "4      0.034094  \n",
       "\n",
       "[5 rows x 28 columns]"
      ]
     },
     "execution_count": 39,
     "metadata": {},
     "output_type": "execute_result"
    }
   ],
   "source": [
    "daily_fund_style_return_data_columns = []\n",
    "for column_i in daily_fund_style_data_columns[4:]:\n",
    "    daily_fund_style_data[column_i + '_shift'] = daily_fund_style_data[column_i].shift(1)\n",
    "    daily_fund_style_data[column_i + '_return'] = daily_fund_style_data[column_i] / daily_fund_style_data[column_i + '_shift'] - 1\n",
    "    daily_fund_style_return_data_columns.append(column_i + '_return')\n",
    "daily_fund_style_data.head()"
   ]
  },
  {
   "cell_type": "code",
   "execution_count": 40,
   "metadata": {
    "collapsed": true
   },
   "outputs": [],
   "source": [
    "daily_fund_style_return_data_columns.insert(0, 'day')\n",
    "daily_fund_style_return_data_columns.insert(0, 'month')\n",
    "daily_fund_style_return_data_columns.insert(0, 'year')\n",
    "daily_fund_style_return_data_columns.insert(0, 'date')"
   ]
  },
  {
   "cell_type": "code",
   "execution_count": 41,
   "metadata": {},
   "outputs": [
    {
     "data": {
      "text/plain": [
       "['date',\n",
       " 'year',\n",
       " 'month',\n",
       " 'day',\n",
       " 'zhongzheng_100_return',\n",
       " 'zhongzhai_composite_return',\n",
       " 'zhongzhai_total_return',\n",
       " 'zhongzheng_500_return',\n",
       " 'zhongzhai_short_term_return',\n",
       " 'zhongzhai_long_term_return',\n",
       " 'zhongzhai_short_AA_return',\n",
       " 'sh300_return']"
      ]
     },
     "execution_count": 41,
     "metadata": {},
     "output_type": "execute_result"
    }
   ],
   "source": [
    "daily_fund_style_return_data_columns"
   ]
  },
  {
   "cell_type": "code",
   "execution_count": 42,
   "metadata": {
    "collapsed": true
   },
   "outputs": [],
   "source": [
    "daily_fund_style_return_data = daily_fund_style_data[daily_fund_style_return_data_columns]"
   ]
  },
  {
   "cell_type": "code",
   "execution_count": 43,
   "metadata": {},
   "outputs": [
    {
     "data": {
      "text/html": [
       "<div>\n",
       "<style>\n",
       "    .dataframe thead tr:only-child th {\n",
       "        text-align: right;\n",
       "    }\n",
       "\n",
       "    .dataframe thead th {\n",
       "        text-align: left;\n",
       "    }\n",
       "\n",
       "    .dataframe tbody tr th {\n",
       "        vertical-align: top;\n",
       "    }\n",
       "</style>\n",
       "<table border=\"1\" class=\"dataframe\">\n",
       "  <thead>\n",
       "    <tr style=\"text-align: right;\">\n",
       "      <th></th>\n",
       "      <th>date</th>\n",
       "      <th>year</th>\n",
       "      <th>month</th>\n",
       "      <th>day</th>\n",
       "      <th>zhongzheng_100_return</th>\n",
       "      <th>zhongzhai_composite_return</th>\n",
       "      <th>zhongzhai_total_return</th>\n",
       "      <th>zhongzheng_500_return</th>\n",
       "      <th>zhongzhai_short_term_return</th>\n",
       "      <th>zhongzhai_long_term_return</th>\n",
       "      <th>zhongzhai_short_AA_return</th>\n",
       "      <th>sh300_return</th>\n",
       "    </tr>\n",
       "  </thead>\n",
       "  <tbody>\n",
       "    <tr>\n",
       "      <th>0</th>\n",
       "      <td>2007-01-09</td>\n",
       "      <td>2007</td>\n",
       "      <td>1</td>\n",
       "      <td>9</td>\n",
       "      <td>NaN</td>\n",
       "      <td>NaN</td>\n",
       "      <td>NaN</td>\n",
       "      <td>NaN</td>\n",
       "      <td>NaN</td>\n",
       "      <td>NaN</td>\n",
       "      <td>NaN</td>\n",
       "      <td>NaN</td>\n",
       "    </tr>\n",
       "    <tr>\n",
       "      <th>1</th>\n",
       "      <td>2007-01-10</td>\n",
       "      <td>2007</td>\n",
       "      <td>1</td>\n",
       "      <td>10</td>\n",
       "      <td>0.022371</td>\n",
       "      <td>-0.000233</td>\n",
       "      <td>0.000454</td>\n",
       "      <td>0.034471</td>\n",
       "      <td>0.000537</td>\n",
       "      <td>-0.000130</td>\n",
       "      <td>0.000134</td>\n",
       "      <td>0.029087</td>\n",
       "    </tr>\n",
       "    <tr>\n",
       "      <th>2</th>\n",
       "      <td>2007-01-11</td>\n",
       "      <td>2007</td>\n",
       "      <td>1</td>\n",
       "      <td>11</td>\n",
       "      <td>-0.013653</td>\n",
       "      <td>-0.000270</td>\n",
       "      <td>0.000274</td>\n",
       "      <td>-0.009423</td>\n",
       "      <td>0.000211</td>\n",
       "      <td>0.000726</td>\n",
       "      <td>0.000078</td>\n",
       "      <td>-0.019093</td>\n",
       "    </tr>\n",
       "    <tr>\n",
       "      <th>3</th>\n",
       "      <td>2007-01-12</td>\n",
       "      <td>2007</td>\n",
       "      <td>1</td>\n",
       "      <td>12</td>\n",
       "      <td>-0.022115</td>\n",
       "      <td>0.000290</td>\n",
       "      <td>0.000453</td>\n",
       "      <td>0.024440</td>\n",
       "      <td>0.000475</td>\n",
       "      <td>0.000270</td>\n",
       "      <td>0.000393</td>\n",
       "      <td>0.003536</td>\n",
       "    </tr>\n",
       "    <tr>\n",
       "      <th>4</th>\n",
       "      <td>2007-01-15</td>\n",
       "      <td>2007</td>\n",
       "      <td>1</td>\n",
       "      <td>15</td>\n",
       "      <td>0.051690</td>\n",
       "      <td>0.000126</td>\n",
       "      <td>0.000154</td>\n",
       "      <td>0.035597</td>\n",
       "      <td>0.000111</td>\n",
       "      <td>0.000497</td>\n",
       "      <td>0.000301</td>\n",
       "      <td>0.034094</td>\n",
       "    </tr>\n",
       "  </tbody>\n",
       "</table>\n",
       "</div>"
      ],
      "text/plain": [
       "         date  year  month  day  zhongzheng_100_return  \\\n",
       "0  2007-01-09  2007      1    9                    NaN   \n",
       "1  2007-01-10  2007      1   10               0.022371   \n",
       "2  2007-01-11  2007      1   11              -0.013653   \n",
       "3  2007-01-12  2007      1   12              -0.022115   \n",
       "4  2007-01-15  2007      1   15               0.051690   \n",
       "\n",
       "   zhongzhai_composite_return  zhongzhai_total_return  zhongzheng_500_return  \\\n",
       "0                         NaN                     NaN                    NaN   \n",
       "1                   -0.000233                0.000454               0.034471   \n",
       "2                   -0.000270                0.000274              -0.009423   \n",
       "3                    0.000290                0.000453               0.024440   \n",
       "4                    0.000126                0.000154               0.035597   \n",
       "\n",
       "   zhongzhai_short_term_return  zhongzhai_long_term_return  \\\n",
       "0                          NaN                         NaN   \n",
       "1                     0.000537                   -0.000130   \n",
       "2                     0.000211                    0.000726   \n",
       "3                     0.000475                    0.000270   \n",
       "4                     0.000111                    0.000497   \n",
       "\n",
       "   zhongzhai_short_AA_return  sh300_return  \n",
       "0                        NaN           NaN  \n",
       "1                   0.000134      0.029087  \n",
       "2                   0.000078     -0.019093  \n",
       "3                   0.000393      0.003536  \n",
       "4                   0.000301      0.034094  "
      ]
     },
     "execution_count": 43,
     "metadata": {},
     "output_type": "execute_result"
    }
   ],
   "source": [
    "daily_fund_style_return_data.head()"
   ]
  },
  {
   "cell_type": "code",
   "execution_count": 44,
   "metadata": {
    "collapsed": true
   },
   "outputs": [],
   "source": [
    "daily_fund_style_return_data = daily_fund_style_return_data[~daily_fund_style_return_data['zhongzheng_100_return'].isnull()]"
   ]
  },
  {
   "cell_type": "code",
   "execution_count": 45,
   "metadata": {},
   "outputs": [
    {
     "data": {
      "text/plain": [
       "<matplotlib.axes._subplots.AxesSubplot at 0x7f07755f4790>"
      ]
     },
     "execution_count": 45,
     "metadata": {},
     "output_type": "execute_result"
    },
    {
     "data": {
      "image/png": "[encoded data removed]",
      "text/plain": [
       "<matplotlib.figure.Figure at 0x7f0774a20990>"
      ]
     },
     "metadata": {},
     "output_type": "display_data"
    }
   ],
   "source": [
    "daily_fund_style_return_data['zhongzhai_short_AA_return'].plot()"
   ]
  },
  {
   "cell_type": "raw",
   "metadata": {},
   "source": [
    "daily_funds_return.sort_values(['year','month'], ascending=[True, True], inplace=True)"
   ]
  },
  {
   "cell_type": "code",
   "execution_count": 46,
   "metadata": {
    "collapsed": true
   },
   "outputs": [],
   "source": [
    "daily_funds_return['return'] = daily_funds_return['return'] / 100"
   ]
  },
  {
   "cell_type": "markdown",
   "metadata": {},
   "source": [
    "## find the nearest year-month-day of all funds"
   ]
  },
  {
   "cell_type": "code",
   "execution_count": 47,
   "metadata": {
    "collapsed": true
   },
   "outputs": [],
   "source": [
    "daily_data = pd.merge(daily_funds_return, daily_fund_style_return_data, how='left', on=['date','year', 'month','day'])"
   ]
  },
  {
   "cell_type": "code",
   "execution_count": 48,
   "metadata": {},
   "outputs": [
    {
     "name": "stdout",
     "output_type": "stream",
     "text": [
      "date : (2005, 2, 24)\n",
      "code : (2005, 2, 24)\n",
      "return : (2005, 2, 24)\n",
      "zhongzheng_100_return : (2007, 1, 10)\n",
      "zhongzhai_composite_return : (2007, 1, 10)\n",
      "zhongzhai_total_return : (2007, 1, 10)\n",
      "zhongzheng_500_return : (2007, 1, 10)\n",
      "zhongzhai_short_term_return : (2007, 1, 10)\n",
      "zhongzhai_long_term_return : (2007, 1, 10)\n",
      "zhongzhai_short_AA_return : (2007, 1, 10)\n",
      "sh300_return : (2007, 1, 10)\n"
     ]
    }
   ],
   "source": [
    "for columns_i in list(daily_data.columns):\n",
    "    if columns_i in ['year','month','day']:\n",
    "        continue\n",
    "    print '{} : {}'.format(columns_i, daily_data[~daily_data[columns_i].isnull()].groupby(['year','month','day']).first().index.min())\n",
    "\n",
    "daily_data = daily_data[daily_data['year'] >= 2007]    "
   ]
  },
  {
   "cell_type": "code",
   "execution_count": 49,
   "metadata": {
    "collapsed": true
   },
   "outputs": [],
   "source": [
    "#daily_data"
   ]
  },
  {
   "cell_type": "markdown",
   "metadata": {},
   "source": [
    "# save the data into files"
   ]
  },
  {
   "cell_type": "code",
   "execution_count": 50,
   "metadata": {},
   "outputs": [
    {
     "name": "stdout",
     "output_type": "stream",
     "text": [
      "(321919, 14)\n"
     ]
    }
   ],
   "source": [
    "daily_data.sort_values(['code', 'year','month','day'], ascending=[True,True, True,True], inplace=True)\n",
    "daily_data.reset_index(drop=True, inplace=True)\n",
    "print daily_data.shape"
   ]
  },
  {
   "cell_type": "code",
   "execution_count": 51,
   "metadata": {},
   "outputs": [
    {
     "data": {
      "text/html": [
       "<div>\n",
       "<style>\n",
       "    .dataframe thead tr:only-child th {\n",
       "        text-align: right;\n",
       "    }\n",
       "\n",
       "    .dataframe thead th {\n",
       "        text-align: left;\n",
       "    }\n",
       "\n",
       "    .dataframe tbody tr th {\n",
       "        vertical-align: top;\n",
       "    }\n",
       "</style>\n",
       "<table border=\"1\" class=\"dataframe\">\n",
       "  <thead>\n",
       "    <tr style=\"text-align: right;\">\n",
       "      <th></th>\n",
       "      <th>date</th>\n",
       "      <th>year</th>\n",
       "      <th>month</th>\n",
       "      <th>day</th>\n",
       "      <th>code</th>\n",
       "      <th>return</th>\n",
       "      <th>zhongzheng_100_return</th>\n",
       "      <th>zhongzhai_composite_return</th>\n",
       "      <th>zhongzhai_total_return</th>\n",
       "      <th>zhongzheng_500_return</th>\n",
       "      <th>zhongzhai_short_term_return</th>\n",
       "      <th>zhongzhai_long_term_return</th>\n",
       "      <th>zhongzhai_short_AA_return</th>\n",
       "      <th>sh300_return</th>\n",
       "    </tr>\n",
       "  </thead>\n",
       "  <tbody>\n",
       "    <tr>\n",
       "      <th>0</th>\n",
       "      <td>2009-11-20</td>\n",
       "      <td>2009</td>\n",
       "      <td>11</td>\n",
       "      <td>20</td>\n",
       "      <td>150008.SZ</td>\n",
       "      <td>-0.002947</td>\n",
       "      <td>-0.004937</td>\n",
       "      <td>-0.000143</td>\n",
       "      <td>0.000506</td>\n",
       "      <td>-0.040707</td>\n",
       "      <td>0.000356</td>\n",
       "      <td>0.001082</td>\n",
       "      <td>0.000376</td>\n",
       "      <td>-0.039634</td>\n",
       "    </tr>\n",
       "    <tr>\n",
       "      <th>1</th>\n",
       "      <td>2009-11-23</td>\n",
       "      <td>2009</td>\n",
       "      <td>11</td>\n",
       "      <td>23</td>\n",
       "      <td>150008.SZ</td>\n",
       "      <td>-0.009852</td>\n",
       "      <td>0.006601</td>\n",
       "      <td>0.000513</td>\n",
       "      <td>0.000273</td>\n",
       "      <td>-0.026123</td>\n",
       "      <td>0.000331</td>\n",
       "      <td>0.000049</td>\n",
       "      <td>0.000098</td>\n",
       "      <td>-0.029624</td>\n",
       "    </tr>\n",
       "    <tr>\n",
       "      <th>2</th>\n",
       "      <td>2009-11-24</td>\n",
       "      <td>2009</td>\n",
       "      <td>11</td>\n",
       "      <td>24</td>\n",
       "      <td>150008.SZ</td>\n",
       "      <td>-0.014925</td>\n",
       "      <td>-0.027698</td>\n",
       "      <td>0.000567</td>\n",
       "      <td>0.000277</td>\n",
       "      <td>0.045071</td>\n",
       "      <td>0.000256</td>\n",
       "      <td>0.000361</td>\n",
       "      <td>0.000167</td>\n",
       "      <td>0.038184</td>\n",
       "    </tr>\n",
       "    <tr>\n",
       "      <th>3</th>\n",
       "      <td>2009-11-25</td>\n",
       "      <td>2009</td>\n",
       "      <td>11</td>\n",
       "      <td>25</td>\n",
       "      <td>150008.SZ</td>\n",
       "      <td>-0.010101</td>\n",
       "      <td>0.020174</td>\n",
       "      <td>0.000345</td>\n",
       "      <td>0.000302</td>\n",
       "      <td>0.027231</td>\n",
       "      <td>0.000162</td>\n",
       "      <td>0.000842</td>\n",
       "      <td>-0.000170</td>\n",
       "      <td>0.014000</td>\n",
       "    </tr>\n",
       "    <tr>\n",
       "      <th>4</th>\n",
       "      <td>2009-11-26</td>\n",
       "      <td>2009</td>\n",
       "      <td>11</td>\n",
       "      <td>26</td>\n",
       "      <td>150008.SZ</td>\n",
       "      <td>-0.030612</td>\n",
       "      <td>-0.041395</td>\n",
       "      <td>0.000203</td>\n",
       "      <td>0.000049</td>\n",
       "      <td>0.014606</td>\n",
       "      <td>-0.000112</td>\n",
       "      <td>0.000675</td>\n",
       "      <td>0.000137</td>\n",
       "      <td>0.010250</td>\n",
       "    </tr>\n",
       "  </tbody>\n",
       "</table>\n",
       "</div>"
      ],
      "text/plain": [
       "         date  year  month  day       code    return  zhongzheng_100_return  \\\n",
       "0  2009-11-20  2009     11   20  150008.SZ -0.002947              -0.004937   \n",
       "1  2009-11-23  2009     11   23  150008.SZ -0.009852               0.006601   \n",
       "2  2009-11-24  2009     11   24  150008.SZ -0.014925              -0.027698   \n",
       "3  2009-11-25  2009     11   25  150008.SZ -0.010101               0.020174   \n",
       "4  2009-11-26  2009     11   26  150008.SZ -0.030612              -0.041395   \n",
       "\n",
       "   zhongzhai_composite_return  zhongzhai_total_return  zhongzheng_500_return  \\\n",
       "0                   -0.000143                0.000506              -0.040707   \n",
       "1                    0.000513                0.000273              -0.026123   \n",
       "2                    0.000567                0.000277               0.045071   \n",
       "3                    0.000345                0.000302               0.027231   \n",
       "4                    0.000203                0.000049               0.014606   \n",
       "\n",
       "   zhongzhai_short_term_return  zhongzhai_long_term_return  \\\n",
       "0                     0.000356                    0.001082   \n",
       "1                     0.000331                    0.000049   \n",
       "2                     0.000256                    0.000361   \n",
       "3                     0.000162                    0.000842   \n",
       "4                    -0.000112                    0.000675   \n",
       "\n",
       "   zhongzhai_short_AA_return  sh300_return  \n",
       "0                   0.000376     -0.039634  \n",
       "1                   0.000098     -0.029624  \n",
       "2                   0.000167      0.038184  \n",
       "3                  -0.000170      0.014000  \n",
       "4                   0.000137      0.010250  "
      ]
     },
     "execution_count": 51,
     "metadata": {},
     "output_type": "execute_result"
    }
   ],
   "source": [
    "daily_data.head()"
   ]
  },
  {
   "cell_type": "code",
   "execution_count": 52,
   "metadata": {
    "collapsed": true
   },
   "outputs": [],
   "source": [
    "daily_data= daily_data[['code','date','year','month','day','return','sh300_return','zhongzheng_100_return','zhongzhai_composite_return',\n",
    "                       'zhongzhai_total_return','zhongzheng_500_return','zhongzhai_short_term_return','zhongzhai_long_term_return', 'zhongzhai_short_AA_return']]"
   ]
  },
  {
   "cell_type": "code",
   "execution_count": 53,
   "metadata": {},
   "outputs": [
    {
     "data": {
      "text/html": [
       "<div>\n",
       "<style>\n",
       "    .dataframe thead tr:only-child th {\n",
       "        text-align: right;\n",
       "    }\n",
       "\n",
       "    .dataframe thead th {\n",
       "        text-align: left;\n",
       "    }\n",
       "\n",
       "    .dataframe tbody tr th {\n",
       "        vertical-align: top;\n",
       "    }\n",
       "</style>\n",
       "<table border=\"1\" class=\"dataframe\">\n",
       "  <thead>\n",
       "    <tr style=\"text-align: right;\">\n",
       "      <th></th>\n",
       "      <th>code</th>\n",
       "      <th>date</th>\n",
       "      <th>year</th>\n",
       "      <th>month</th>\n",
       "      <th>day</th>\n",
       "      <th>return</th>\n",
       "      <th>sh300_return</th>\n",
       "      <th>zhongzheng_100_return</th>\n",
       "      <th>zhongzhai_composite_return</th>\n",
       "      <th>zhongzhai_total_return</th>\n",
       "      <th>zhongzheng_500_return</th>\n",
       "      <th>zhongzhai_short_term_return</th>\n",
       "      <th>zhongzhai_long_term_return</th>\n",
       "      <th>zhongzhai_short_AA_return</th>\n",
       "    </tr>\n",
       "  </thead>\n",
       "  <tbody>\n",
       "    <tr>\n",
       "      <th>0</th>\n",
       "      <td>150008.SZ</td>\n",
       "      <td>2009-11-20</td>\n",
       "      <td>2009</td>\n",
       "      <td>11</td>\n",
       "      <td>20</td>\n",
       "      <td>-0.002947</td>\n",
       "      <td>-0.039634</td>\n",
       "      <td>-0.004937</td>\n",
       "      <td>-0.000143</td>\n",
       "      <td>0.000506</td>\n",
       "      <td>-0.040707</td>\n",
       "      <td>0.000356</td>\n",
       "      <td>0.001082</td>\n",
       "      <td>0.000376</td>\n",
       "    </tr>\n",
       "    <tr>\n",
       "      <th>1</th>\n",
       "      <td>150008.SZ</td>\n",
       "      <td>2009-11-23</td>\n",
       "      <td>2009</td>\n",
       "      <td>11</td>\n",
       "      <td>23</td>\n",
       "      <td>-0.009852</td>\n",
       "      <td>-0.029624</td>\n",
       "      <td>0.006601</td>\n",
       "      <td>0.000513</td>\n",
       "      <td>0.000273</td>\n",
       "      <td>-0.026123</td>\n",
       "      <td>0.000331</td>\n",
       "      <td>0.000049</td>\n",
       "      <td>0.000098</td>\n",
       "    </tr>\n",
       "    <tr>\n",
       "      <th>2</th>\n",
       "      <td>150008.SZ</td>\n",
       "      <td>2009-11-24</td>\n",
       "      <td>2009</td>\n",
       "      <td>11</td>\n",
       "      <td>24</td>\n",
       "      <td>-0.014925</td>\n",
       "      <td>0.038184</td>\n",
       "      <td>-0.027698</td>\n",
       "      <td>0.000567</td>\n",
       "      <td>0.000277</td>\n",
       "      <td>0.045071</td>\n",
       "      <td>0.000256</td>\n",
       "      <td>0.000361</td>\n",
       "      <td>0.000167</td>\n",
       "    </tr>\n",
       "    <tr>\n",
       "      <th>3</th>\n",
       "      <td>150008.SZ</td>\n",
       "      <td>2009-11-25</td>\n",
       "      <td>2009</td>\n",
       "      <td>11</td>\n",
       "      <td>25</td>\n",
       "      <td>-0.010101</td>\n",
       "      <td>0.014000</td>\n",
       "      <td>0.020174</td>\n",
       "      <td>0.000345</td>\n",
       "      <td>0.000302</td>\n",
       "      <td>0.027231</td>\n",
       "      <td>0.000162</td>\n",
       "      <td>0.000842</td>\n",
       "      <td>-0.000170</td>\n",
       "    </tr>\n",
       "    <tr>\n",
       "      <th>4</th>\n",
       "      <td>150008.SZ</td>\n",
       "      <td>2009-11-26</td>\n",
       "      <td>2009</td>\n",
       "      <td>11</td>\n",
       "      <td>26</td>\n",
       "      <td>-0.030612</td>\n",
       "      <td>0.010250</td>\n",
       "      <td>-0.041395</td>\n",
       "      <td>0.000203</td>\n",
       "      <td>0.000049</td>\n",
       "      <td>0.014606</td>\n",
       "      <td>-0.000112</td>\n",
       "      <td>0.000675</td>\n",
       "      <td>0.000137</td>\n",
       "    </tr>\n",
       "  </tbody>\n",
       "</table>\n",
       "</div>"
      ],
      "text/plain": [
       "        code        date  year  month  day    return  sh300_return  \\\n",
       "0  150008.SZ  2009-11-20  2009     11   20 -0.002947     -0.039634   \n",
       "1  150008.SZ  2009-11-23  2009     11   23 -0.009852     -0.029624   \n",
       "2  150008.SZ  2009-11-24  2009     11   24 -0.014925      0.038184   \n",
       "3  150008.SZ  2009-11-25  2009     11   25 -0.010101      0.014000   \n",
       "4  150008.SZ  2009-11-26  2009     11   26 -0.030612      0.010250   \n",
       "\n",
       "   zhongzheng_100_return  zhongzhai_composite_return  zhongzhai_total_return  \\\n",
       "0              -0.004937                   -0.000143                0.000506   \n",
       "1               0.006601                    0.000513                0.000273   \n",
       "2              -0.027698                    0.000567                0.000277   \n",
       "3               0.020174                    0.000345                0.000302   \n",
       "4              -0.041395                    0.000203                0.000049   \n",
       "\n",
       "   zhongzheng_500_return  zhongzhai_short_term_return  \\\n",
       "0              -0.040707                     0.000356   \n",
       "1              -0.026123                     0.000331   \n",
       "2               0.045071                     0.000256   \n",
       "3               0.027231                     0.000162   \n",
       "4               0.014606                    -0.000112   \n",
       "\n",
       "   zhongzhai_long_term_return  zhongzhai_short_AA_return  \n",
       "0                    0.001082                   0.000376  \n",
       "1                    0.000049                   0.000098  \n",
       "2                    0.000361                   0.000167  \n",
       "3                    0.000842                  -0.000170  \n",
       "4                    0.000675                   0.000137  "
      ]
     },
     "execution_count": 53,
     "metadata": {},
     "output_type": "execute_result"
    }
   ],
   "source": [
    "daily_data.dropna(how='any').head()"
   ]
  },
  {
   "cell_type": "code",
   "execution_count": 54,
   "metadata": {
    "collapsed": true
   },
   "outputs": [],
   "source": [
    "daily_data.to_csv('./../data/daily_data/daily_data_clean_'+ datetime.date.today().strftime('%Y%m%d') + '.csv', encoding='utf-8', index=False, header=True)"
   ]
  },
  {
   "cell_type": "code",
   "execution_count": 55,
   "metadata": {},
   "outputs": [
    {
     "data": {
      "text/plain": [
       "<matplotlib.axes._subplots.AxesSubplot at 0x7f07752f6690>"
      ]
     },
     "execution_count": 55,
     "metadata": {},
     "output_type": "execute_result"
    },
    {
     "data": {
      "image/png": "[encoded data removed]",
      "text/plain": [
       "<matplotlib.figure.Figure at 0x7f07756c4ed0>"
      ]
     },
     "metadata": {},
     "output_type": "display_data"
    }
   ],
   "source": [
    "daily_data['sh300_return'].plot()"
   ]
  },
  {
   "cell_type": "code",
   "execution_count": null,
   "metadata": {
    "collapsed": true
   },
   "outputs": [],
   "source": []
  }
 ],
 "metadata": {
  "kernelspec": {
   "display_name": "Python 2",
   "language": "python",
   "name": "python2"
  },
  "language_info": {
   "codemirror_mode": {
    "name": "ipython",
    "version": 2
   },
   "file_extension": ".py",
   "mimetype": "text/x-python",
   "name": "python",
   "nbconvert_exporter": "python",
   "pygments_lexer": "ipython2",
   "version": "2.7.13"
  }
 },
 "nbformat": 4,
 "nbformat_minor": 2
}
